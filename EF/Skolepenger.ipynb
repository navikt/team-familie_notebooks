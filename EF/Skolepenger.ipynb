{
 "cells": [
  {
   "cell_type": "code",
   "execution_count": null,
   "id": "74286f9d-c6e7-40e9-b71b-c78551f07a55",
   "metadata": {},
   "outputs": [],
   "source": [
    "import cx_Oracle\n",
    "from os import getenv\n",
    "import datetime, json\n",
    "import os\n",
    "from google.cloud import secretmanager\n",
    "\n",
    "import numpy as np\n",
    "import pandas as pd\n",
    "from pandas.tseries.offsets import Day\n",
    "\n",
    "import nltk\n",
    "from nltk.corpus import stopwords\n",
    "from nltk.tokenize import word_tokenize\n",
    "\n",
    "\n",
    "import cufflinks as cf\n",
    "cf.go_offline()\n",
    "cf.set_config_file(offline=False, world_readable=True)\n",
    "\n",
    "import warnings\n",
    "warnings.filterwarnings('ignore')"
   ]
  },
  {
   "cell_type": "code",
   "execution_count": null,
   "id": "d5d07f60-9bca-4ef2-94f0-69b4e3424297",
   "metadata": {},
   "outputs": [],
   "source": [
    "def set_secrets_as_envs():\n",
    "  secrets = secretmanager.SecretManagerServiceClient()\n",
    "  resource_name = f\"{os.environ['KNADA_TEAM_SECRET']}/versions/latest\"\n",
    "  secret = secrets.access_secret_version(name=resource_name)\n",
    "  secret_str = secret.payload.data.decode('UTF-8')\n",
    "  secrets = json.loads(secret_str)\n",
    "  os.environ.update(secrets)"
   ]
  },
  {
   "cell_type": "code",
   "execution_count": null,
   "id": "880ace72-61dc-43cd-af5d-c43313ff82de",
   "metadata": {},
   "outputs": [],
   "source": [
    "def oracle_secrets():\n",
    "  set_secrets_as_envs()\n",
    "  return dict(\n",
    "    user=os.getenv(\"UID\"),\n",
    "    password=os.getenv(\"PWD\"),\n",
    "    host = os.getenv(\"HOST\"),\n",
    "    service = os.getenv(\"SERVICE\"),\n",
    "    encoding=\"UTF-8\",\n",
    "    nencoding=\"UTF-8\"\n",
    "  )\n",
    "\n",
    "oracle_secrets = oracle_secrets()"
   ]
  },
  {
   "cell_type": "code",
   "execution_count": null,
   "id": "60a360d9-dc1e-4342-817f-003729172ad1",
   "metadata": {},
   "outputs": [],
   "source": [
    "def get_data(sql):\n",
    "    user = oracle_secrets['user'] + '[DVH_FAM_EF]' #f\"[{schema}]\"\n",
    "    dsn_tns = cx_Oracle.makedsn(oracle_secrets['host'], 1521, service_name = oracle_secrets['service'])\n",
    "    try:\n",
    "        conn = cx_Oracle.connect(user = user, password = oracle_secrets['password'], dsn = dsn_tns)\n",
    "        df = pd.read_sql(sql = sql, con = conn)\n",
    "        conn.close()\n",
    "        return df\n",
    "    except cx_Oracle.Error as error:\n",
    "        print(error)"
   ]
  },
  {
   "cell_type": "code",
   "execution_count": null,
   "id": "439ec8cb-79c2-4504-8bb2-b2ae510233b9",
   "metadata": {},
   "outputs": [],
   "source": [
    "sql = \"\"\" \n",
    "select kafka_offset,\n",
    "JSON_VALUE(melding, '$.vedtaksbegrunnelse') AS vedtaksbegrunnelse \n",
    "from dvh_fam_ef.fam_ef_meta_data \n",
    "where STONADSTYPE = 'SKOLEPENGER' and JSON_VALUE(melding, '$.vedtaksbegrunnelse') is not null\n",
    "\"\"\"\n",
    "\n",
    "df = get_data(sql = sql)"
   ]
  },
  {
   "cell_type": "code",
   "execution_count": null,
   "id": "3e37df15-ed56-475c-b415-3dcbb73abbd9",
   "metadata": {},
   "outputs": [],
   "source": [
    "df = pd.DataFrame(df)"
   ]
  },
  {
   "cell_type": "code",
   "execution_count": null,
   "id": "253850c3-6157-41fc-9c26-2985da4647ae",
   "metadata": {},
   "outputs": [],
   "source": [
    "df.head()"
   ]
  },
  {
   "cell_type": "code",
   "execution_count": null,
   "id": "95dd645a-148e-4985-a4b6-71841495d5a8",
   "metadata": {},
   "outputs": [],
   "source": [
    "df.loc[1, 'VEDTAKSBEGRUNNELSE']"
   ]
  },
  {
   "cell_type": "code",
   "execution_count": null,
   "id": "adb2e796-4b44-4657-816d-fc675a10c1d2",
   "metadata": {},
   "outputs": [],
   "source": [
    "# finner lengde på hver melding\n",
    "\n",
    "df['Tekst_len'] = df['VEDTAKSBEGRUNNELSE'].str.len()"
   ]
  },
  {
   "cell_type": "code",
   "execution_count": null,
   "id": "cb189ee0-71f8-453b-a571-b1abd449d1a7",
   "metadata": {},
   "outputs": [],
   "source": [
    "df['VEDTAKSBEGRUNNELSE'] = df['VEDTAKSBEGRUNNELSE'].str.lower()\n",
    "df['VEDTAKSBEGRUNNELSE'] = df['VEDTAKSBEGRUNNELSE'].str.replace('\\n', '')"
   ]
  },
  {
   "cell_type": "code",
   "execution_count": null,
   "id": "f10867ad-1f82-48bd-9d60-2c19fa57353c",
   "metadata": {},
   "outputs": [],
   "source": [
    "df.head()"
   ]
  },
  {
   "cell_type": "code",
   "execution_count": null,
   "id": "995bd673-9fa7-4d5d-b5af-da46476a21d4",
   "metadata": {},
   "outputs": [],
   "source": [
    "pd.set_option('display.max_colwidth', None)"
   ]
  },
  {
   "cell_type": "code",
   "execution_count": null,
   "id": "60093e35-5c64-4e1e-9ba4-e8fead666a59",
   "metadata": {},
   "outputs": [],
   "source": [
    "filt = (df['Tekst_len'] < 100)\n",
    "df.loc[filt, 'VEDTAKSBEGRUNNELSE'].head()"
   ]
  },
  {
   "cell_type": "code",
   "execution_count": null,
   "id": "9f191a4d-3163-49ee-9344-ad8d0aeb81b7",
   "metadata": {},
   "outputs": [],
   "source": [
    "stop_words = set(stopwords.words('norwegian'))\n",
    "no_list = ['.', ',', 'til', 'kr', 'kroner','på', 'for'] + list(stop_words)\n",
    "\n",
    "def delete_not_worthy_word(x):\n",
    "    tokens = nltk.word_tokenize(x)\n",
    "    cleaned_tokens = []\n",
    "    for word in tokens:\n",
    "        if word not in no_list:\n",
    "            cleaned_tokens.append(word)      \n",
    "    return ' '.join(cleaned_tokens)   "
   ]
  },
  {
   "cell_type": "code",
   "execution_count": null,
   "id": "101d4887-a851-4a1a-ac12-ed1d87801721",
   "metadata": {},
   "outputs": [],
   "source": [
    "df['cleaned_text'] = df['VEDTAKSBEGRUNNELSE'].apply(delete_not_worthy_word)"
   ]
  },
  {
   "cell_type": "code",
   "execution_count": null,
   "id": "1971b91e-89e8-448b-aaa4-81a4fb777562",
   "metadata": {},
   "outputs": [],
   "source": []
  },
  {
   "cell_type": "code",
   "execution_count": null,
   "id": "17f4ba50-db17-4beb-9443-34b0af20be70",
   "metadata": {},
   "outputs": [],
   "source": [
    "from collections import Counter\n",
    "Counter(\" \".join(df[\"cleaned_text\"]).split()).most_common(100)"
   ]
  },
  {
   "cell_type": "code",
   "execution_count": null,
   "id": "bb9cf556-1cd6-4325-8aeb-a66319e6cb31",
   "metadata": {},
   "outputs": [],
   "source": []
  },
  {
   "cell_type": "code",
   "execution_count": null,
   "id": "53e0e18f-8764-44b4-b67a-7a525db42ab1",
   "metadata": {},
   "outputs": [],
   "source": [
    "filt = (df['cleaned_text'].str.contains('='))\n",
    "df.loc[filt]"
   ]
  },
  {
   "cell_type": "code",
   "execution_count": null,
   "id": "d3764ce3-8c9f-42fb-a958-e2f1e9dc11ac",
   "metadata": {},
   "outputs": [],
   "source": []
  },
  {
   "cell_type": "code",
   "execution_count": null,
   "id": "e2d917b1-8247-44d9-ab11-261b9e808d0b",
   "metadata": {},
   "outputs": [],
   "source": [
    "filt = (df['Tekst_len'] > 500)\n",
    "df.loc[filt]"
   ]
  },
  {
   "cell_type": "code",
   "execution_count": null,
   "id": "6a459966-40f6-488c-a180-717ee653ae79",
   "metadata": {},
   "outputs": [],
   "source": []
  },
  {
   "cell_type": "code",
   "execution_count": null,
   "id": "a274cc6c-e62a-4945-a0f3-180213eb21f2",
   "metadata": {},
   "outputs": [],
   "source": []
  },
  {
   "cell_type": "code",
   "execution_count": null,
   "id": "96fdfbbc-515b-4bc1-aba4-085ee1639b02",
   "metadata": {},
   "outputs": [],
   "source": []
  },
  {
   "cell_type": "code",
   "execution_count": null,
   "id": "c03f7507-0032-4fa7-ab51-44dd7ea97364",
   "metadata": {},
   "outputs": [],
   "source": []
  },
  {
   "cell_type": "code",
   "execution_count": null,
   "id": "09bbbc9c-3fc9-4a98-ba03-8f266a61ad7f",
   "metadata": {},
   "outputs": [],
   "source": []
  },
  {
   "cell_type": "code",
   "execution_count": null,
   "id": "e5f0f8d9-e047-4d9a-a584-f97edd3f4f46",
   "metadata": {},
   "outputs": [],
   "source": []
  },
  {
   "cell_type": "code",
   "execution_count": null,
   "id": "ed31b693-9645-4deb-886c-d5b58214500a",
   "metadata": {},
   "outputs": [],
   "source": []
  },
  {
   "cell_type": "code",
   "execution_count": null,
   "id": "c5ec9461-ec2f-4bbc-9550-cc7fd4a9db72",
   "metadata": {},
   "outputs": [],
   "source": []
  },
  {
   "cell_type": "code",
   "execution_count": null,
   "id": "639035c4-85b1-4a1f-a3c9-5849a1f25211",
   "metadata": {},
   "outputs": [],
   "source": []
  },
  {
   "cell_type": "code",
   "execution_count": null,
   "id": "145f6171-a3a9-401c-9572-01da4902d044",
   "metadata": {},
   "outputs": [],
   "source": []
  },
  {
   "cell_type": "code",
   "execution_count": null,
   "id": "56288961-ed7d-4e90-ba6f-9540fd1d0f1b",
   "metadata": {},
   "outputs": [],
   "source": []
  },
  {
   "cell_type": "code",
   "execution_count": null,
   "id": "07d103e6-c9d5-4101-9627-bdd10d11b99c",
   "metadata": {},
   "outputs": [],
   "source": [
    "connection_string = 'username/pass@localhost/schema'\n",
    "clob_column_name = 'MELDING'\n",
    "query = \"\"\" SELECT \n",
    "pk_ef_meta_data, kafka_offset, {} \n",
    "FROM dvh_fam_ef.fam_ef_meta_data \n",
    "where STONADSTYPE = 'SKOLEPENGER' \"\"\".format(clob_column_name)\n",
    "\n",
    "dsn_tns = cx_Oracle.makedsn(oracle_secrets['host'], 1521, service_name = oracle_secrets['service'])\n",
    "with cx_Oracle.connect(user = oracle_secrets['user'], password = oracle_secrets['password'], dsn = dsn_tns) as connection:\n",
    "    df = pd.read_sql(sql=query, \n",
    "                     con=connection)\n",
    "    # need to read data from cx_Oracle.LOB objects\n",
    "    df[clob_column_name] = df[clob_column_name].apply(lambda x: x.read())"
   ]
  }
 ],
 "metadata": {
  "kernelspec": {
   "display_name": "Python 3 (ipykernel)",
   "language": "python",
   "name": "python3"
  },
  "language_info": {
   "codemirror_mode": {
    "name": "ipython",
    "version": 3
   },
   "file_extension": ".py",
   "mimetype": "text/x-python",
   "name": "python",
   "nbconvert_exporter": "python",
   "pygments_lexer": "ipython3",
   "version": "3.10.6"
  }
 },
 "nbformat": 4,
 "nbformat_minor": 5
}
