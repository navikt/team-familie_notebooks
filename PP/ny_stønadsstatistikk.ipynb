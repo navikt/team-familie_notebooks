{
 "cells": [
  {
   "cell_type": "code",
   "execution_count": null,
   "id": "17164187-fd87-444a-a429-0f3302372536",
   "metadata": {},
   "outputs": [],
   "source": [
    "import cx_Oracle\n",
    "from os import getenv\n",
    "\n",
    "import numpy as np\n",
    "import pandas as pd\n",
    "from pandas.tseries.offsets import Day\n",
    "\n",
    "import datetime, json\n",
    "import os\n",
    "from google.cloud import secretmanager\n",
    "\n",
    "\n",
    "import matplotlib\n",
    "import matplotlib.pyplot as plt\n",
    "plt.style.use('ggplot')\n",
    "from matplotlib.pyplot import figure\n",
    "%matplotlib inline\n",
    "matplotlib.rcParams['figure.figsize'] = (20,12)\n",
    "\n",
    "import plotly \n",
    "import plotly.express as px\n",
    "import plotly.graph_objs as go\n",
    "import plotly.offline as py\n",
    "from plotly.offline import iplot\n",
    "from plotly.subplots import make_subplots\n",
    "import plotly.figure_factory as ff\n",
    "\n",
    "import cufflinks as cf\n",
    "cf.go_offline()\n",
    "cf.set_config_file(offline=False, world_readable=True)\n",
    "\n",
    "import warnings\n",
    "warnings.filterwarnings('ignore')"
   ]
  },
  {
   "cell_type": "code",
   "execution_count": null,
   "id": "17707c97-0836-4af9-9f5e-457528608d9f",
   "metadata": {},
   "outputs": [],
   "source": [
    "def set_secrets_as_envs():\n",
    "  secrets = secretmanager.SecretManagerServiceClient()\n",
    "  resource_name = f\"{os.environ['KNADA_TEAM_SECRET']}/versions/latest\"\n",
    "  secret = secrets.access_secret_version(name=resource_name)\n",
    "  secret_str = secret.payload.data.decode('UTF-8')\n",
    "  secrets = json.loads(secret_str)\n",
    "  os.environ.update(secrets)"
   ]
  },
  {
   "cell_type": "code",
   "execution_count": null,
   "id": "a96f0dc7-e3a7-433d-a8a2-7ac20b7c7e37",
   "metadata": {},
   "outputs": [],
   "source": [
    "def oracle_secrets():\n",
    "  set_secrets_as_envs()\n",
    "  return dict(\n",
    "    user=os.getenv(\"UID\"),\n",
    "    password=os.getenv(\"PWD\"),\n",
    "    host = os.getenv(\"HOST\"),\n",
    "    service = os.getenv(\"SERVICE\"),\n",
    "    encoding=\"UTF-8\",\n",
    "    nencoding=\"UTF-8\"\n",
    "  )\n",
    "\n",
    "oracle_secrets = oracle_secrets()"
   ]
  },
  {
   "cell_type": "code",
   "execution_count": null,
   "id": "8d3a6f14-d770-4a49-873a-d1774b058374",
   "metadata": {},
   "outputs": [],
   "source": [
    "def get_data(sql):\n",
    "    user = oracle_secrets['user'] + '[DVH_FAM_PP]' #f\"[{schema}]\"\n",
    "    dsn_tns = cx_Oracle.makedsn(oracle_secrets['host'], 1521, service_name = oracle_secrets['service'])\n",
    "    try:\n",
    "        conn = cx_Oracle.connect(user = user, password = oracle_secrets['password'], dsn = dsn_tns)\n",
    "        df = pd.read_sql(sql = sql, con = conn)\n",
    "        conn.close()\n",
    "        return df\n",
    "    except cx_Oracle.Error as error:\n",
    "        print(error)"
   ]
  },
  {
   "cell_type": "code",
   "execution_count": null,
   "id": "edd3e33f-5a18-4c29-b65e-19d7a6e1f30b",
   "metadata": {},
   "outputs": [],
   "source": [
    "sql = \"\"\" \n",
    "SELECT A.PERIODE, DIM_TID.DATO, A.UTBET_FOM, A.UTBET_TOM, A.FK_PERSON1_MOTTAKER, A.FK_PERSON1_PLEIETRENGENDE, A.UTFALL\n",
    ",A.SAKSNUMMER, A.ARBEIDSFORHOLD_TYPE, A.PLEIEBEHOV\n",
    ",B.GMT_OVERSE_ETABLERT_TILSYN_AARSAK, B.SOKERS_TAPTE_ARBEIDSTID, B.GMT_ANDRE_SOKERS_TILSYN, B.GMT_TILGJENGELIG_FOR_SOKER, B.GMT_ETABLERT_TILSYN, B.NATTEVAAK, B.BEREDSKAP\n",
    ",AARSAK.AARSAK\n",
    "FROM fam_pp_stonad A\n",
    "JOIN fam_pp_perioder B ON A.FK_PP_PERIODER=B.PK_PP_PERIODER\n",
    "LEFT OUTER JOIN fam_pp_periode_aarsak AARSAK ON AARSAK.FK_PP_PERIODER=B.PK_PP_PERIODER \n",
    "JOIN DT_P.DIM_TID DIM_TID ON DIM_TID.DIM_NIVAA=1 \n",
    "AND DIM_TID.DAG_I_UKE<6 \n",
    "AND DIM_TID.GYLDIG_FLAGG=1 \n",
    "AND A.UTBET_FOM<=DIM_TID.DATO \n",
    "AND A.UTBET_TOM>=DIM_TID.DATO\n",
    "WHERE A.KILDESYSTEM='PP_VEDTAK' AND A.GYLDIG_FLAGG=0 AND A.PERIODE>202200 AND A.PERIODE<202205\n",
    "and to_char(DIM_TID.DATO,'YYYYMM')=PERIODE\"\"\"\n",
    "\n",
    "df = get_data(sql = sql)"
   ]
  },
  {
   "cell_type": "code",
   "execution_count": null,
   "id": "07215b4c-f06e-446c-94f8-50a712acca43",
   "metadata": {},
   "outputs": [],
   "source": [
    "df.head()"
   ]
  },
  {
   "cell_type": "markdown",
   "id": "6aa86255-c941-40a9-9a6f-29f1a060dd2c",
   "metadata": {},
   "source": [
    "# Bestilling av stønadsstatistikk i forbindelse med endringer i 9-11"
   ]
  },
  {
   "cell_type": "markdown",
   "id": "ac9338d2-fd10-4f5c-aa5f-fd1acb116860",
   "metadata": {},
   "source": [
    "- Trenger totalt antall saker per dag (som er i søknadsperioden).\n",
    "- Hvilken tidsperiode uttrekket gjelder for\n",
    "    - Fullt uttrekk for alle data fra K9 \n",
    "    - Data per dag dataene gjelder for."
   ]
  },
  {
   "cell_type": "markdown",
   "id": "4cb5e425-54f8-4c40-b29e-8c2734234ebc",
   "metadata": {},
   "source": [
    "### Total antall saker per dag innvilget og ikke innvilget "
   ]
  },
  {
   "cell_type": "code",
   "execution_count": null,
   "id": "6d4f2ac6-7bbe-47f4-a588-1510482708d3",
   "metadata": {},
   "outputs": [],
   "source": [
    "antal_saker = df[['DATO', 'SAKSNUMMER', 'UTFALL']].pivot_table(index = 'DATO', columns = 'UTFALL',values = 'SAKSNUMMER', aggfunc = lambda x: len(x.unique()), margins = True)[:-1]"
   ]
  },
  {
   "cell_type": "code",
   "execution_count": null,
   "id": "a5501568-4098-4623-a9f2-9b2ba9df2cb4",
   "metadata": {},
   "outputs": [],
   "source": [
    "# gir navn til kolonnene\n",
    "\n",
    "antal_saker.columns = [''] * len(antal_saker.columns)\n",
    "antal_saker.columns = ['ANT_SAKER_IKKE_OPP', 'ANT_SAKER_OPP', 'ANT_SAK_TOTALT'] \n",
    "antal_saker.head()"
   ]
  },
  {
   "cell_type": "markdown",
   "id": "9f29b2e7-d4b3-4d0f-8dc4-186099674581",
   "metadata": {},
   "source": [
    "- I hvor mange saker er det opplyst om timer med tilsynsordning?\n",
    "    - Antall saker med tilsynsordning per dag."
   ]
  },
  {
   "cell_type": "markdown",
   "id": "0d6165ff-2d20-4140-978a-7b45538a3b8d",
   "metadata": {},
   "source": [
    "### Antall saker med tilsynsordning per dag"
   ]
  },
  {
   "cell_type": "code",
   "execution_count": null,
   "id": "22aa40fa-f6af-46e5-9a2c-207008c4d4fa",
   "metadata": {},
   "outputs": [],
   "source": [
    "# saker som har utfall som opppfylt og har tilsyn (GMT_ETABLERT_TILSYN > 0)\n",
    "\n",
    "filt = ((df['UTFALL'] == 'OPPFYLT') & (df['GMT_ETABLERT_TILSYN'] > 0)) \n",
    "tilsynsordning = df.loc[filt][['DATO', 'SAKSNUMMER']].pivot_table(\n",
    "    index = 'DATO', values = 'SAKSNUMMER' ,aggfunc = lambda x: len(x.unique()))"
   ]
  },
  {
   "cell_type": "code",
   "execution_count": null,
   "id": "20c4ec91-35b4-4b54-b4f7-7cabefadfd27",
   "metadata": {},
   "outputs": [],
   "source": [
    "tilsynsordning.columns = [''] * len(tilsynsordning.columns)\n",
    "tilsynsordning.columns =['Ant_SAK_MED_TILSYN']\n",
    "tilsynsordning.head()"
   ]
  },
  {
   "cell_type": "markdown",
   "id": "eb317dba-3a4e-4ac6-97df-8532207a5177",
   "metadata": {},
   "source": [
    "- I hvor mange av sakene med tilsynsordning er det vurdert nattevåk og/eller beredskap?\n",
    "    - Antall saker med innvilget beredskap per dag.\n",
    "    - Antall saker med avslått beredskap per dag.\n",
    "    - Antall saker med innvilget nattevåk per dag.\n",
    "    - Antall saker med avslått nattevåk per dag.\n",
    "    - Antall saker med innvilget beredskap & nattevåk per dag.\n",
    "    - Antall saker med avslått beredskap & nattevåk per dag."
   ]
  },
  {
   "cell_type": "code",
   "execution_count": null,
   "id": "1cc38d2d-c443-48fc-98ed-7e327bbf5931",
   "metadata": {},
   "outputs": [],
   "source": [
    "filt = ((df['UTFALL'] == 'OPPFYLT') & (df['GMT_ETABLERT_TILSYN'] > 0))\n",
    "beredskap_df = df.loc[filt, ['DATO','SAKSNUMMER', 'BEREDSKAP']].pivot_table(index = 'DATO', columns = 'BEREDSKAP',values = 'SAKSNUMMER', aggfunc = lambda x: len(x.unique()))\n",
    "beredskap_df.columns = [''] * len(beredskap_df.columns)\n",
    "beredskap_df.columns = ['BEREDSKAP_IKKE_OPP', 'BEREDSKAP_OPP']\n",
    "beredskap_df.head()"
   ]
  },
  {
   "cell_type": "code",
   "execution_count": null,
   "id": "d5f8ae13-c3af-4975-b3a9-4606c0772dae",
   "metadata": {},
   "outputs": [],
   "source": [
    "filt = ((df['UTFALL'] == 'OPPFYLT') & (df['GMT_ETABLERT_TILSYN'] > 0))\n",
    "nattevaak_df = df.loc[filt, ['DATO','SAKSNUMMER', 'NATTEVAAK']].pivot_table(index = 'DATO', columns = 'NATTEVAAK',values = 'SAKSNUMMER', aggfunc = lambda x: len(x.unique()))\n",
    "nattevaak_df.columns = [''] * len(nattevaak_df.columns)\n",
    "nattevaak_df.columns = ['NATTEVAAK_IKKE_OPP', 'NATTEVAAK_OPP']\n",
    "nattevaak_df.head()"
   ]
  },
  {
   "cell_type": "code",
   "execution_count": null,
   "id": "d60b245b-0fd7-45cb-ab11-3796f154bd8e",
   "metadata": {},
   "outputs": [],
   "source": [
    "filt = ((df['BEREDSKAP'] == 'OPPFYLT') & (df['NATTEVAAK'] == 'OPPFYLT') & (df['UTFALL'] == 'OPPFYLT') & (df['GMT_ETABLERT_TILSYN'] > 0))\n",
    "nattevaak_og_beredskap_opp_df = df.loc[filt][['DATO', 'SAKSNUMMER']].pivot_table(index = 'DATO', values = 'SAKSNUMMER', aggfunc = lambda x: len(x.unique()))"
   ]
  },
  {
   "cell_type": "code",
   "execution_count": null,
   "id": "1a41bb1c-3c13-4c41-80e7-c9ca1d0e775c",
   "metadata": {},
   "outputs": [],
   "source": [
    "nattevaak_og_beredskap_opp_df.columns = [''] * len(nattevaak_og_beredskap_opp_df.columns)\n",
    "nattevaak_og_beredskap_opp_df.columns = ['BEREDSKAP_OG_NATTEVAAK_INNVILGET']\n",
    "nattevaak_og_beredskap_opp_df.head()"
   ]
  },
  {
   "cell_type": "code",
   "execution_count": null,
   "id": "1bc48cca-1834-4247-950d-7a52db492550",
   "metadata": {},
   "outputs": [],
   "source": [
    "filt = ((df['BEREDSKAP'] == 'IKKE_OPPFYLT') & (df['NATTEVAAK'] == 'IKKE_OPPFYLT') & (df['UTFALL'] == 'OPPFYLT') & (df['GMT_ETABLERT_TILSYN'] > 0))\n",
    "nattevaak_og_beredskap_ikke_opp_df = df.loc[filt][['DATO', 'SAKSNUMMER']].pivot_table(index = 'DATO', values = 'SAKSNUMMER', aggfunc = lambda x: len(x.unique()))"
   ]
  },
  {
   "cell_type": "code",
   "execution_count": null,
   "id": "85a76cfe-a0a7-45ff-bfee-900ed9cbd6ea",
   "metadata": {},
   "outputs": [],
   "source": [
    "# denne spørringen kun viser rader som har sak (så hvis en rad har ikke noe sak så vises ikke raden her).\n",
    "\n",
    "nattevaak_og_beredskap_ikke_opp_df.columns = [''] * len(nattevaak_og_beredskap_opp_df.columns)\n",
    "nattevaak_og_beredskap_ikke_opp_df.columns = ['BEREDSKAP_OG_NATTEVAAK_IKKE_INNVILGET']\n",
    "nattevaak_og_beredskap_ikke_opp_df"
   ]
  },
  {
   "cell_type": "code",
   "execution_count": null,
   "id": "9db4c077-1d9b-49fe-99f3-5cf2d2549563",
   "metadata": {},
   "outputs": [],
   "source": [
    "# kombinerte de 6 koloner \n",
    "\n",
    "natt_bred_result = pd.concat([beredskap_df, nattevaak_df, nattevaak_og_beredskap_opp_df, nattevaak_og_beredskap_ikke_opp_df], \n",
    "                             axis=1).reindex(beredskap_df.index).fillna(value = 0)\n",
    "natt_bred_result.astype(int).head()"
   ]
  },
  {
   "cell_type": "code",
   "execution_count": null,
   "id": "aaf36618-a4ac-4d39-ae40-ce0d1de9a375",
   "metadata": {},
   "outputs": [],
   "source": []
  },
  {
   "cell_type": "markdown",
   "id": "8fa89e56-f087-4e70-b7d0-89af508b5360",
   "metadata": {},
   "source": [
    "- I hvor mange av sakene er det unntak fra gradering på grunn av nattevåk og/eller beredskap?\n",
    "    - Antall saker der nattevåk og/eller beredskap blir brukt som unntak per dag."
   ]
  },
  {
   "cell_type": "code",
   "execution_count": null,
   "id": "d9171217-0d3e-4905-acec-70ad9301bd18",
   "metadata": {},
   "outputs": [],
   "source": [
    "# fortsatt litt usikker på om (df['GMT_ETABLERT_TILSYN'] > 0) skal være med eller ikke?\n",
    "\n",
    "l = ['NATTEVÅK_OG_BEREDSKAP', 'BEREDSKAP', 'NATTEVÅK']\n",
    "#filt = ((df['GMT_ETABLERT_TILSYN'] > 0) & (df['UTFALL'] == 'OPPFYLT') & (df['GMT_OVERSE_ETABLERT_TILSYN_AARSAK'].isin(l)))\n",
    "filt = ( (df['UTFALL'] == 'OPPFYLT') & (((df['NATTEVAAK'] == 'OPPFYLT') | (df['BEREDSKAP'] == 'OPPFYLT')) | ((df['NATTEVAAK'] == 'OPPFYLT') & (df['BEREDSKAP'] == 'OPPFYLT')))) \n",
    "natt_bred_unntak = df.loc[filt][['DATO', 'SAKSNUMMER']].pivot_table(index='DATO', values = 'SAKSNUMMER', aggfunc = lambda x: len(x.unique()) )"
   ]
  },
  {
   "cell_type": "code",
   "execution_count": null,
   "id": "859613f6-ad9f-4b0a-8d86-8fdbb1b9da40",
   "metadata": {},
   "outputs": [],
   "source": [
    "natt_bred_unntak.columns = [''] * len(natt_bred_unntak.columns)\n",
    "natt_bred_unntak.columns = ['ANT_SAK_NATT_OG_PRED_UNNTAK_FRA_GRAD']\n",
    "natt_bred_unntak.head()"
   ]
  },
  {
   "cell_type": "code",
   "execution_count": null,
   "id": "b83ee83f-a60f-48c5-998e-e2df4b8d5391",
   "metadata": {},
   "outputs": [],
   "source": []
  },
  {
   "cell_type": "markdown",
   "id": "769122e9-06ca-4d9c-b467-cc788b777af1",
   "metadata": {
    "tags": []
   },
   "source": [
    "- Antall saker som graderes med årsak per dag:\n",
    "    - GRADERT_MOT_TILSYN\n",
    "    - AVKORTET_MOT_INNTEKT"
   ]
  },
  {
   "cell_type": "code",
   "execution_count": null,
   "id": "abf0ebbe-2e15-48ee-9815-aab212077efc",
   "metadata": {},
   "outputs": [],
   "source": [
    "# utfall oppfylt, aarsak er enten AVKORTET_MOT_INNTEKT eller GRADERT_MOT_TILSYN\n",
    "\n",
    "filt = ((df['UTFALL'] == 'OPPFYLT') & ((df['AARSAK'] == 'AVKORTET_MOT_INNTEKT') | (df['AARSAK'] == 'GRADERT_MOT_TILSYN')))\n",
    "gradering_med_aarsak = df.loc[filt, ['DATO', 'AARSAK', 'SAKSNUMMER']].pivot_table(index = 'DATO', columns = 'AARSAK', values = 'AARSAK',\n",
    "                                                           aggfunc = lambda x: len(x.unique()), fill_value=0)"
   ]
  },
  {
   "cell_type": "code",
   "execution_count": null,
   "id": "647b5959-612d-46a7-aa5d-f9d25cca01fe",
   "metadata": {},
   "outputs": [],
   "source": [
    "gradering_med_aarsak.columns = [''] * len(gradering_med_aarsak.columns)\n",
    "gradering_med_aarsak.columns =['ANT_SAK_AVKORTET_MOT_INNTEKT', 'ANT_SAK_GRADERT_MOT_TILSYN']\n",
    "gradering_med_aarsak.head()"
   ]
  },
  {
   "cell_type": "markdown",
   "id": "fb2ebbe1-5014-427f-ab01-89ec70694845",
   "metadata": {},
   "source": [
    "- Antall avslag med årsak per dag:\n",
    "    - FOR_LAV_REST_PGA_ETABLERT_TILSYN \n",
    "    - FOR_LAV_REST_PGA_ETABLERT_TILSYN_OG_ANDRE_SØKERE\n",
    "    - FOR_LAV_TAPT_ARBEIDSTID\n",
    "    - FOR_LAV_REST_PGA_ANDRE_SØKERE"
   ]
  },
  {
   "cell_type": "code",
   "execution_count": null,
   "id": "f108548d-f826-4e5c-8917-33079f1d44b9",
   "metadata": {},
   "outputs": [],
   "source": [
    "# om du legger til UTFALL = 'OPPFYLT' så får du samme svar så den er ikke nødvendig her \n",
    "\n",
    "avslag_aarsak_list = ['FOR_LAV_REST_PGA_ETABLERT_TILSYN', 'FOR_LAV_REST_PGA_ETABLERT_TILSYN_OG_ANDRE_SØKERE', 'FOR_LAV_TAPT_ARBEIDSTID', 'FOR_LAV_REST_PGA_ANDRE_SØKERE']\n",
    "filt = df['AARSAK'].isin(avslag_aarsak_list)\n",
    "avslag_aarsak = df.loc[filt, ['DATO', 'AARSAK', 'SAKSNUMMER']].pivot_table(index = 'DATO', columns = 'AARSAK', values = 'SAKSNUMMER',\n",
    "                                                          aggfunc = lambda x: len(x.unique()), fill_value = 0)"
   ]
  },
  {
   "cell_type": "code",
   "execution_count": null,
   "id": "57278061-18ee-44e7-aa2a-ac03095d8cf7",
   "metadata": {},
   "outputs": [],
   "source": [
    "avslag_aarsak.columns = [''] * len(avslag_aarsak.columns)\n",
    "avslag_aarsak.columns =['ANT_SAK_FOR_LAV_REST_PGA_ANDRE_SØKERE', 'ANT_SAK_FOR_LAV_REST_PGA_ETABLERT_TILSYN', 'ANT_SAK_FOR_LAV_REST_PGA_ETABLERT_TILSYN_OG_ANDRE_SØKERE', 'ANT_SAK_FOR_LAV_TAPT_ARBEIDSTID']\n",
    "avslag_aarsak.head()"
   ]
  },
  {
   "cell_type": "code",
   "execution_count": null,
   "id": "23f235f4-21e1-4895-9b76-859dd53a0255",
   "metadata": {},
   "outputs": [],
   "source": []
  },
  {
   "cell_type": "markdown",
   "id": "e82f36be-7dd8-4b44-8d81-11bfa63994b2",
   "metadata": {},
   "source": [
    "- Hvor mange har ikke arbeid?\n",
    "    - Alle aktiviteter bortsett fra selvstendig næringsdrivende, frilanser og/eller arbeidstaker."
   ]
  },
  {
   "cell_type": "code",
   "execution_count": null,
   "id": "e24118a9-3673-469e-945a-fbf84e20cbaf",
   "metadata": {},
   "outputs": [],
   "source": [
    "# saker som ikk her en av de kodene 'AT','SN','FL', None (ikke ta med null rader heller)\n",
    "\n",
    "bortsett_liste = ['AT','SN','FL', None]\n",
    "filt = (df['UTFALL'] == 'OPPFYLT') & (~df['ARBEIDSFORHOLD_TYPE'].isin(bortsett_liste))\n",
    "ikke_arbeid = df.loc[filt, ['DATO', 'SAKSNUMMER']].pivot_table(index = 'DATO',values = 'SAKSNUMMER', aggfunc = lambda x: len(x.unique())\n",
    "                                                ,fill_value = 0)"
   ]
  },
  {
   "cell_type": "code",
   "execution_count": null,
   "id": "44e3d97b-5428-4c77-9597-244ead33a4f2",
   "metadata": {},
   "outputs": [],
   "source": [
    "ikke_arbeid.columns = [''] * len(ikke_arbeid.columns)\n",
    "ikke_arbeid.columns =['ANT_SAK_UTEN_ARBEID']\n",
    "ikke_arbeid"
   ]
  },
  {
   "cell_type": "markdown",
   "id": "7a134fb8-5e37-48b4-84b2-9350ff5f8b4e",
   "metadata": {},
   "source": [
    "- Hvor mange har ikke arbeid og oppgir tilsyn?\n",
    "    - Antall saker med arbeid og oppgitt tilsyn per dag."
   ]
  },
  {
   "cell_type": "code",
   "execution_count": null,
   "id": "210bd424-e2df-4e25-a7d7-cb82332ed2a3",
   "metadata": {},
   "outputs": [],
   "source": [
    "arbeid_liste = ['AT','SN','FL']\n",
    "filt = ((df['GMT_ETABLERT_TILSYN'] > 0) & (df['UTFALL'] == 'OPPFYLT') & (~df['ARBEIDSFORHOLD_TYPE'].isin(arbeid_liste)))\n",
    "saker_arbeid_tilsyn = df.loc[filt, ['DATO', 'SAKSNUMMER']].pivot_table(index = 'DATO', values = 'SAKSNUMMER',\n",
    "                                                aggfunc = lambda x: len(x.unique()), fill_value = 0)"
   ]
  },
  {
   "cell_type": "code",
   "execution_count": null,
   "id": "ba82ca94-5ed6-476c-b5a0-7cfce5b80d3e",
   "metadata": {},
   "outputs": [],
   "source": [
    "saker_arbeid_tilsyn.columns = [''] * len(saker_arbeid_tilsyn.columns)\n",
    "saker_arbeid_tilsyn.columns =['ANT_SAK_IKKE_ARBEID_OG_OPPGIR_TILSYN']\n",
    "saker_arbeid_tilsyn"
   ]
  },
  {
   "cell_type": "markdown",
   "id": "9f90b4d0-2c34-4505-96e6-bbaf2b934abd",
   "metadata": {},
   "source": [
    "## Gradering mot annen omsorgsperson:"
   ]
  },
  {
   "cell_type": "markdown",
   "id": "ba0e09ab-f5c2-468e-a14e-d7d1adee0850",
   "metadata": {},
   "source": [
    "- Hvor mange saker har flere søkere i samme periode?\n",
    "    - Antall saker for et gitt antall søkere (1,2,3,4 eller 5) per dag. (ikke så viktig)"
   ]
  },
  {
   "cell_type": "code",
   "execution_count": null,
   "id": "05418ebe-48b7-4bcf-ac6e-0ea1c809ade8",
   "metadata": {},
   "outputs": [],
   "source": []
  },
  {
   "cell_type": "markdown",
   "id": "39bfc883-87ff-4e2a-bc98-4b26c5905a2f",
   "metadata": {},
   "source": [
    "- I hvor mange saker er det kun behov for 1 omsorgsperson?\n",
    "    - Antall saker for en gitt pleiegrad (0%, 100%, eller 200%) per dag."
   ]
  },
  {
   "cell_type": "code",
   "execution_count": null,
   "id": "abfc7203-465d-40ed-b5b8-b2f06d64818f",
   "metadata": {},
   "outputs": [],
   "source": [
    "# hvis vi vil ha de som har 0% så må vi ikke begrense til UTFALL = 'OPPFYLLT'\n",
    "\n",
    "filt = (df['UTFALL'] == 'OPPFYLT')\n",
    "pleiebehov = df.loc[filt,['DATO', 'PLEIEBEHOV', 'SAKSNUMMER']].pivot_table(index = 'DATO',columns = 'PLEIEBEHOV', values = 'SAKSNUMMER',\n",
    "                                                    aggfunc = lambda x: len(x.unique()), fill_value=0)"
   ]
  },
  {
   "cell_type": "code",
   "execution_count": null,
   "id": "ecee1aed-1533-482e-9155-003fd260c0aa",
   "metadata": {},
   "outputs": [],
   "source": [
    "pleiebehov.columns = [''] * len(pleiebehov.columns)\n",
    "pleiebehov.columns =['ANT_SAK_100_PLEIEBEHOV', 'ANT_SAK_200_PLEIEBEHOV']\n",
    "pleiebehov"
   ]
  },
  {
   "cell_type": "markdown",
   "id": "73ef4c92-778f-4f66-a91c-06fa2b11b4b2",
   "metadata": {},
   "source": [
    "## Gradering mot arbeid:"
   ]
  },
  {
   "cell_type": "markdown",
   "id": "01d3ca25-6bce-4977-9267-a58f1485be3d",
   "metadata": {},
   "source": [
    "- Dette uttrekket er ikke per dag, men totalt over alle periodene til en fagsak:\n",
    "    - Hvor mange saker graderes/avslås uten årsakene AVKORTET_MOT_INNTEKT og/eller FOR_LAV_TAPT_ARBEIDSTID\n",
    "    - Hvor mange saker graderes/avslås uten årsaken GRADERT_MOT_TILSYN"
   ]
  },
  {
   "cell_type": "markdown",
   "id": "2bc8831a-5610-42be-8409-75ec7e345013",
   "metadata": {},
   "source": [
    "### Antall saker graderes/avslås uten årsakene AVKORTET_MOT_INNTEKT og/eller FOR_LAV_TAPT_ARBEIDSTID"
   ]
  },
  {
   "cell_type": "code",
   "execution_count": null,
   "id": "0b2f64d6-9569-4918-94f5-0a4277a03058",
   "metadata": {},
   "outputs": [],
   "source": [
    "# ifølge Stian så skal vi ikke bruke noe annet kolonne enn AARSAK\n",
    "\n",
    "bortsett_aarsak = ['AVKORTET_MOT_INNTEKT', 'FOR_LAV_TAPT_ARBEIDSTID']\n",
    "filt = (~df['AARSAK'].isin(bortsett_aarsak)) \n",
    "\n",
    "df.loc[filt][['UTFALL', 'SAKSNUMMER']].pivot_table(\n",
    "    index = 'UTFALL', values = 'SAKSNUMMER' ,aggfunc = lambda x: len(x.unique()), fill_value=0)"
   ]
  },
  {
   "cell_type": "markdown",
   "id": "66864520-63a4-45d0-af16-d11f25ef6c40",
   "metadata": {},
   "source": [
    "### Antall saker graderes/avslås uten årsaken GRADERT_MOT_TILSYN"
   ]
  },
  {
   "cell_type": "code",
   "execution_count": null,
   "id": "ae583079-b030-43ef-9f53-6d37eebbfea7",
   "metadata": {},
   "outputs": [],
   "source": [
    "filt = (df['AARSAK'] != 'GRADERT_MOT_TILSYN') \n",
    "df.loc[filt,['UTFALL', 'SAKSNUMMER']].pivot_table(index = 'UTFALL', values = 'SAKSNUMMER', aggfunc = lambda x: len(x.unique()))"
   ]
  },
  {
   "cell_type": "markdown",
   "id": "f228fc2d-1c61-4071-89a9-b6e5d9ca8dbf",
   "metadata": {},
   "source": [
    "## §8-13 og gradering mot 20 %"
   ]
  },
  {
   "cell_type": "markdown",
   "id": "d9951b50-4b61-44ea-b2c1-2b97a2d5d6fb",
   "metadata": {},
   "source": [
    " - Antall saker med årsak FOR_LAV_TAPT_ARBEIDSTID per dag"
   ]
  },
  {
   "cell_type": "code",
   "execution_count": null,
   "id": "e894d10a-3d4d-492a-9a5a-8a37d8c41544",
   "metadata": {},
   "outputs": [],
   "source": [
    "filt = (df['AARSAK'] == 'FOR_LAV_TAPT_ARBEIDSTID')\n",
    "df.loc[filt, ['DATO', 'SAKSNUMMER']].pivot_table(index = 'DATO', values = 'SAKSNUMMER', aggfunc = lambda x: len(x.unique()), fill_value = 0)"
   ]
  },
  {
   "cell_type": "markdown",
   "id": "46730a21-dc70-450c-89b2-eadf15724c49",
   "metadata": {},
   "source": [
    " - Antallet saker som ikke har minst én søknadsperiode som er lenger enn 5 dager sammenhengende."
   ]
  },
  {
   "cell_type": "markdown",
   "id": "84cd5dae-94d2-4dd8-9f81-7fa3f5b01d82",
   "metadata": {
    "tags": []
   },
   "source": [
    "### Antallet saker som ikke har minst én søknadsperiode som er lenger enn 5 dager sammenhengende."
   ]
  },
  {
   "cell_type": "code",
   "execution_count": null,
   "id": "f3e0ed05-a248-462a-b201-4a200b6cab6f",
   "metadata": {},
   "outputs": [],
   "source": [
    "sql_ = \"\"\" \n",
    "SELECT A.PERIODE, A.UTBET_FOM, A.UTBET_TOM, A.FK_PERSON1_MOTTAKER, A.FK_PERSON1_PLEIETRENGENDE, A.UTFALL, A.OPPGITT_TILSYN\n",
    ",A.SAKSNUMMER, A.ARBEIDSFORHOLD_TYPE, A.PLEIEBEHOV\n",
    ",B.GMT_OVERSE_ETABLERT_TILSYN_AARSAK, B.GMT_ETABLERT_TILSYN\n",
    ",AARSAK.AARSAK\n",
    "FROM fam_pp_stonad A\n",
    "JOIN fam_pp_perioder B ON A.FK_PP_PERIODER=B.PK_PP_PERIODER\n",
    "LEFT OUTER JOIN fam_pp_periode_aarsak AARSAK ON AARSAK.FK_PP_PERIODER=B.PK_PP_PERIODER \n",
    "WHERE A.KILDESYSTEM='PP_VEDTAK' AND A.GYLDIG_FLAGG=0 AND A.PERIODE>202200 AND A.PERIODE<202205\n",
    "\"\"\"\n",
    "df_ = get_data(sql = sql_)"
   ]
  },
  {
   "cell_type": "code",
   "execution_count": null,
   "id": "33a5aea4-9e19-4001-ac2a-06a31142a337",
   "metadata": {},
   "outputs": [],
   "source": [
    "df_ = df_[['PERIODE','UTBET_FOM', 'UTBET_TOM', 'SAKSNUMMER']]"
   ]
  },
  {
   "cell_type": "code",
   "execution_count": null,
   "id": "a3865747-b877-4c14-8eec-140e83867bb9",
   "metadata": {},
   "outputs": [],
   "source": [
    "df_['ANTALL_DAGER'] = df_['UTBET_TOM'].sub(df_['UTBET_FOM']).mod(365*Day()).dt.days + 1"
   ]
  },
  {
   "cell_type": "code",
   "execution_count": null,
   "id": "fb7ac5e0-0f76-4ec5-af3f-03696429baef",
   "metadata": {},
   "outputs": [],
   "source": [
    "# hent alle saker som har én søknadsperiode som er lik 5\n",
    "\n",
    "filt = (df_['ANTALL_DAGER'] == 5)\n",
    "saker_med_søknadsperiode_5 = df_.loc[filt, 'SAKSNUMMER'].unique() # liste med alle saker som har én søknadsperiode på 5 dager i alle periodene januar, februer, mars, april"
   ]
  },
  {
   "cell_type": "code",
   "execution_count": null,
   "id": "486b7c03-29d5-4eb9-8e6a-b89a2298f489",
   "metadata": {},
   "outputs": [],
   "source": [
    "# henter kun saker som ikke er i saker_med_søknadsperiode_5\n",
    "\n",
    "filt = (~(df_['SAKSNUMMER'].isin(saker_med_søknadsperiode_5)))\n",
    "df_.loc[filt]"
   ]
  },
  {
   "cell_type": "code",
   "execution_count": null,
   "id": "58ef2232-1da3-438e-96d2-245eb2822655",
   "metadata": {},
   "outputs": [],
   "source": [
    "df_['WEEK_UTBET_FOM'] = df_['UTBET_FOM'].dt.week\n",
    "df_['WEEK_UTBET_TOM'] = df_['UTBET_TOM'].dt.week\n",
    "filt = (df_['WEEK_UTBET_FOM'] != df_['WEEK_UTBET_TOM'])\n",
    "#df_.loc[filt]"
   ]
  },
  {
   "cell_type": "code",
   "execution_count": null,
   "id": "aa117981-ce07-4dc0-8753-f5efecbba2f7",
   "metadata": {},
   "outputs": [],
   "source": [
    "# test case\n",
    "#df_.loc[(df_['SAKSNUMMER'] == 'ABX74') & (df_['WEEK_UTBET_FOM'] == 1)]\n",
    "#df_.loc[(df_['SAKSNUMMER'] == 'ABX74') & (df_['WEEK_UTBET_FOM'] == 1)].drop_duplicates(keep='first').groupby(['WEEK_UTBET_FOM', 'SAKSNUMMER'])['ANTALL_DAGER'].sum()"
   ]
  },
  {
   "cell_type": "code",
   "execution_count": null,
   "id": "b24d9654-2451-45ba-8d38-679b9d6d79ab",
   "metadata": {},
   "outputs": [],
   "source": [
    "filt = (~(df_['SAKSNUMMER'].isin(saker_med_søknadsperiode_5)))\n",
    "x = df_.loc[filt].drop_duplicates(keep='first').groupby(['WEEK_UTBET_FOM', 'SAKSNUMMER'])['ANTALL_DAGER'].sum().reset_index()\n",
    "x"
   ]
  },
  {
   "cell_type": "code",
   "execution_count": null,
   "id": "59ee0afa-7f1f-48af-b24f-680a70f7e9fc",
   "metadata": {},
   "outputs": [],
   "source": [
    "# Antall saker som ikke har minst én søknadsperiode som er lenger enn 5 dager sammenhengende\n",
    "len(x[x['ANTALL_DAGER']<5])"
   ]
  },
  {
   "cell_type": "code",
   "execution_count": null,
   "id": "13b9f39b-aff1-4fb9-88ea-65471dd4a701",
   "metadata": {},
   "outputs": [],
   "source": []
  },
  {
   "cell_type": "markdown",
   "id": "68400976-840f-460b-96b3-a0b33fc63f0a",
   "metadata": {},
   "source": [
    "### Antall nye saker per periode"
   ]
  },
  {
   "cell_type": "code",
   "execution_count": null,
   "id": "6609ce31-34cf-480d-b90e-e033ef1cfb3f",
   "metadata": {},
   "outputs": [],
   "source": [
    "nye_saker = df[['PERIODE', 'SAKSNUMMER']].drop_duplicates(keep='first').sort_values(by = 'PERIODE')\n",
    "nye_saker['PERIODE'] = pd.to_datetime(nye_saker['PERIODE'],format='%Y%m') "
   ]
  },
  {
   "cell_type": "code",
   "execution_count": null,
   "id": "171cfb64-fd85-4479-adc6-e2877cfd6c25",
   "metadata": {},
   "outputs": [],
   "source": [
    "s1 = nye_saker.groupby('PERIODE')['SAKSNUMMER'].value_counts()\n",
    "s2 = s1.unstack().diff().replace({0: False, np.nan: True}).stack()\n",
    "nye_saker['NY_SAK'] = nye_saker.set_index(['PERIODE', 'SAKSNUMMER']).index.map(s2)"
   ]
  },
  {
   "cell_type": "code",
   "execution_count": null,
   "id": "8b6282d3-a4df-46fc-8774-f00f40021866",
   "metadata": {},
   "outputs": [],
   "source": [
    "nye_saker"
   ]
  },
  {
   "cell_type": "code",
   "execution_count": null,
   "id": "05140fdd-8806-410f-8f16-7a4cc0fd7d90",
   "metadata": {},
   "outputs": [],
   "source": [
    "filt = (nye_saker['NY_SAK'] == True) & (nye_saker['PERIODE'] > '2022-01-01')\n",
    "nye_saker.loc[filt]"
   ]
  },
  {
   "cell_type": "code",
   "execution_count": null,
   "id": "e250ae51-a2df-4495-8756-185954503c78",
   "metadata": {},
   "outputs": [],
   "source": [
    "ant_ny_sak_per_periode = pd.crosstab(nye_saker.loc[filt, 'PERIODE'], nye_saker.loc[filt, 'NY_SAK'])"
   ]
  },
  {
   "cell_type": "code",
   "execution_count": null,
   "id": "ef3c7f3c-a1e7-42cd-9f13-39e8162faf99",
   "metadata": {},
   "outputs": [],
   "source": [
    "ant_ny_sak_per_periode.columns = [''] * len(ant_ny_sak_per_periode.columns)\n",
    "ant_ny_sak_per_periode.columns = ['ANT_NYE_SAKER']\n",
    "ant_ny_sak_per_periode"
   ]
  },
  {
   "cell_type": "code",
   "execution_count": null,
   "id": "9f9b56a4-bfe4-4f88-843a-f42a943db206",
   "metadata": {},
   "outputs": [],
   "source": [
    "filt = (df['PERIODE'] == '202202')\n",
    "len(df.loc[filt, 'SAKSNUMMER'].unique())"
   ]
  },
  {
   "cell_type": "markdown",
   "id": "8c49c04f-5895-4641-869f-0251eefc8f6b",
   "metadata": {
    "tags": []
   },
   "source": [
    "### Resultat tabell"
   ]
  },
  {
   "cell_type": "code",
   "execution_count": null,
   "id": "4d439edc-93d8-4cf0-9c6a-7c11d108e4cf",
   "metadata": {},
   "outputs": [],
   "source": [
    "pd.set_option('display.max_columns', None)"
   ]
  },
  {
   "cell_type": "code",
   "execution_count": null,
   "id": "1bcee874-13c9-48e4-9538-490d095edcea",
   "metadata": {},
   "outputs": [],
   "source": [
    "slutt_df = pd.concat([antal_saker,tilsynsordning,natt_bred_result,natt_bred_unntak,gradering_med_aarsak,avslag_aarsak,ikke_arbeid,saker_arbeid_tilsyn,pleiebehov], \n",
    "                             axis=1).reindex(antal_saker.index).fillna(value = 0)"
   ]
  },
  {
   "cell_type": "code",
   "execution_count": null,
   "id": "9fcfb899-26db-45ee-94e8-16040c7b253b",
   "metadata": {},
   "outputs": [],
   "source": [
    "slutt_df"
   ]
  },
  {
   "cell_type": "code",
   "execution_count": null,
   "id": "274bad6c-a55f-4865-a0e1-791b9ba71276",
   "metadata": {},
   "outputs": [],
   "source": [
    "slutt_df.to_excel('resultat_tabell.xlsx')"
   ]
  },
  {
   "cell_type": "code",
   "execution_count": null,
   "id": "334dfd0a-4907-4c35-8cbd-2ebcad622243",
   "metadata": {},
   "outputs": [],
   "source": []
  },
  {
   "cell_type": "code",
   "execution_count": null,
   "id": "6e64d115-8835-4579-80a4-a0f011892185",
   "metadata": {},
   "outputs": [],
   "source": []
  },
  {
   "cell_type": "code",
   "execution_count": null,
   "id": "9338d4ef-9816-4051-94b1-f8d4f8a1f3f8",
   "metadata": {},
   "outputs": [],
   "source": []
  },
  {
   "cell_type": "code",
   "execution_count": null,
   "id": "e5df84e9-3e4f-4038-bf3f-2880fce17a9b",
   "metadata": {},
   "outputs": [],
   "source": []
  },
  {
   "cell_type": "code",
   "execution_count": null,
   "id": "7414b4c5-edb6-46e1-865b-9351207b6a2c",
   "metadata": {},
   "outputs": [],
   "source": []
  },
  {
   "cell_type": "code",
   "execution_count": null,
   "id": "c544d3d6-c245-439c-98bf-56b3352e2965",
   "metadata": {},
   "outputs": [],
   "source": []
  },
  {
   "cell_type": "code",
   "execution_count": null,
   "id": "db306f13-1406-46f1-86a3-97423266d483",
   "metadata": {},
   "outputs": [],
   "source": []
  },
  {
   "cell_type": "code",
   "execution_count": null,
   "id": "19980d21-bb07-470c-9461-8ea2b4403fcb",
   "metadata": {},
   "outputs": [],
   "source": []
  },
  {
   "cell_type": "code",
   "execution_count": null,
   "id": "7aaaa2ec-3b6a-465e-9e27-363bf9fa89ec",
   "metadata": {},
   "outputs": [],
   "source": []
  },
  {
   "cell_type": "code",
   "execution_count": null,
   "id": "e0dee215-9b50-4f6d-be4a-6c32efa0bc25",
   "metadata": {},
   "outputs": [],
   "source": []
  },
  {
   "cell_type": "code",
   "execution_count": null,
   "id": "616eec3e-53d1-4418-b30f-f824becd292f",
   "metadata": {},
   "outputs": [],
   "source": []
  },
  {
   "cell_type": "code",
   "execution_count": null,
   "id": "c32a6511-2532-4a51-ac23-934b703dcc23",
   "metadata": {},
   "outputs": [],
   "source": []
  },
  {
   "cell_type": "code",
   "execution_count": null,
   "id": "8a65a1c8-afd3-4308-8851-e9757a4f349e",
   "metadata": {},
   "outputs": [],
   "source": []
  },
  {
   "cell_type": "code",
   "execution_count": null,
   "id": "d99a7687-4c87-4e03-b29c-f57ad958d613",
   "metadata": {},
   "outputs": [],
   "source": []
  },
  {
   "cell_type": "code",
   "execution_count": null,
   "id": "bd39f6e9-b871-4291-a1fb-ebf25cb1e7f5",
   "metadata": {},
   "outputs": [],
   "source": []
  },
  {
   "cell_type": "code",
   "execution_count": null,
   "id": "53f323a9-edb4-4d8e-bf5c-9f272d1ae71c",
   "metadata": {},
   "outputs": [],
   "source": []
  },
  {
   "cell_type": "code",
   "execution_count": null,
   "id": "f27258da-003a-4a64-9995-d0e1f75b0f40",
   "metadata": {},
   "outputs": [],
   "source": [
    "------------------------- Ikke se på resten her, bare data jeg leker med ---------------------"
   ]
  },
  {
   "cell_type": "code",
   "execution_count": null,
   "id": "9bcfb1e0-3329-4329-a3ab-d0c50170b9c3",
   "metadata": {},
   "outputs": [],
   "source": []
  },
  {
   "cell_type": "code",
   "execution_count": null,
   "id": "f5d2092d-f90d-4dae-84ad-75d95fbd1053",
   "metadata": {},
   "outputs": [],
   "source": [
    "df_behov = df[['PLEIEBEHOV', 'GMT_ANDRE_SOKERS_TILSYN', 'GMT_TILGJENGELIG_FOR_SOKER']].astype(float)\n",
    "df_behov"
   ]
  },
  {
   "cell_type": "code",
   "execution_count": null,
   "id": "c4616a62-7d7a-4f1f-aac4-b70b5a8f3e43",
   "metadata": {},
   "outputs": [],
   "source": [
    "df_behov = df[['PLEIEBEHOV', 'GMT_ANDRE_SOKERS_TILSYN', 'GMT_TILGJENGELIG_FOR_SOKER']].astype(float)\n",
    "df_behov['tilsyn_sum'] = df_behov['GMT_ANDRE_SOKERS_TILSYN'] + df['GMT_TILGJENGELIG_FOR_SOKER']\n",
    "df_behov[df_behov['PLEIEBEHOV'] != df_behov['tilsyn_sum']]"
   ]
  },
  {
   "cell_type": "code",
   "execution_count": null,
   "id": "06fb9f1e-0b9c-40c6-a5b1-659c34693ab7",
   "metadata": {},
   "outputs": [],
   "source": []
  },
  {
   "cell_type": "code",
   "execution_count": null,
   "id": "7b93207d-36b5-4004-ba91-96a28a0b0e85",
   "metadata": {},
   "outputs": [],
   "source": [
    "pivot = df[['DATO', 'SAKSNUMMER', 'FK_PERSON1_MOTTAKER']].pivot_table(index = ['DATO', 'SAKSNUMMER']\n",
    "                                                                        ,values = 'FK_PERSON1_MOTTAKER', aggfunc = lambda x: len(x.unique()))"
   ]
  },
  {
   "cell_type": "code",
   "execution_count": null,
   "id": "9dc7a9b6-7896-4d85-b6e8-3e9046b42ac2",
   "metadata": {},
   "outputs": [],
   "source": [
    "pivot.reset_index(inplace = True)"
   ]
  },
  {
   "cell_type": "code",
   "execution_count": null,
   "id": "d2eacfca-ece1-4d12-be85-909d46ca2ab1",
   "metadata": {},
   "outputs": [],
   "source": [
    "pivot.loc[filt].groupby(['DATO',''])['SAKSNUMMER'].nunique()"
   ]
  },
  {
   "cell_type": "code",
   "execution_count": null,
   "id": "7f5da801-51ca-4654-bbd1-6268f35e925d",
   "metadata": {},
   "outputs": [],
   "source": []
  },
  {
   "cell_type": "code",
   "execution_count": null,
   "id": "cacc946a-f250-4ac4-82d8-b87e3588104d",
   "metadata": {},
   "outputs": [],
   "source": []
  },
  {
   "cell_type": "code",
   "execution_count": null,
   "id": "6c37b629-cfe5-4a9f-8272-4f96e2ce7417",
   "metadata": {},
   "outputs": [],
   "source": []
  },
  {
   "cell_type": "code",
   "execution_count": null,
   "id": "221fef82-cc16-4d65-a03c-7324a50fb1f6",
   "metadata": {},
   "outputs": [],
   "source": [
    "filt = ((df['GMT_OVERSE_ETABLERT_TILSYN_AARSAK'] != 'FOR_LAVT') & df['GMT_OVERSE_ETABLERT_TILSYN_AARSAK'].notna()) # henter saker med tilsynsordning\n",
    "\n",
    "tilsynsordning_med_aarsak = df.loc[filt][['DATO', 'SAKSNUMMER', 'UTFALL', 'GMT_OVERSE_ETABLERT_TILSYN_AARSAK']].pivot_table(\n",
    "    index = ['DATO', 'UTFALL'], columns = 'GMT_OVERSE_ETABLERT_TILSYN_AARSAK', values = 'SAKSNUMMER' ,aggfunc = lambda x: len(x.unique()), \n",
    "                    fill_value=0).rename_axis(None, axis = 1).unstack()"
   ]
  },
  {
   "cell_type": "code",
   "execution_count": null,
   "id": "e1e51cd2-0bdc-41db-97d4-07647c11f7be",
   "metadata": {},
   "outputs": [],
   "source": [
    "tilsynsordning_med_aarsak.columns = [''] * len(tilsynsordning_med_aarsak.columns)\n",
    "tilsynsordning_med_aarsak.columns =['BEREDSKAP_IKKE_OPP', 'BEREDSKAP_OPP','NATTEVÅK_IKKE_OPP', 'NATTEVÅK_OPP', 'NATTEVÅK_OG_BEREDSKAP_IKKE_OPP', 'NATTEVÅK_OG_BEREDSKAP_OPP']\n",
    "tilsynsordning_med_aarsak"
   ]
  },
  {
   "cell_type": "code",
   "execution_count": null,
   "id": "abe2c3da-9fb9-4107-b59f-3b116073acfc",
   "metadata": {},
   "outputs": [],
   "source": []
  },
  {
   "cell_type": "code",
   "execution_count": null,
   "id": "7cce8cae-7495-4d31-bfa2-8ae5ac86d3dd",
   "metadata": {},
   "outputs": [],
   "source": [
    "filt = ((df['UTFALL'] == 'OPPFYLT') & (df['GMT_ETABLERT_TILSYN'].notna()) & (df['GMT_ETABLERT_TILSYN'] == 0) \n",
    "        & (df['GMT_OVERSE_ETABLERT_TILSYN_AARSAK'] != 'FOR_LAVT') & (df['GMT_OVERSE_ETABLERT_TILSYN_AARSAK'].notna()))\n",
    "untak_fra_gradering_nattvåk_og_beresdkap = df.loc[filt][['DATO', 'SAKSNUMMER']].pivot_table(\n",
    "    index = 'DATO', values = 'SAKSNUMMER' ,aggfunc = lambda x: len(x.unique()), fill_value=0)"
   ]
  },
  {
   "cell_type": "code",
   "execution_count": null,
   "id": "fd7d2779-1d8f-44ef-8219-c40c0691b140",
   "metadata": {},
   "outputs": [],
   "source": [
    "untak_fra_gradering_nattvåk_og_beresdkap.columns = [''] * len(untak_fra_gradering_nattvåk_og_beresdkap.columns)\n",
    "untak_fra_gradering_nattvåk_og_beresdkap.columns = ['ANT_SAK_NATTVAAK_BEREDSKAP_BRUKT_SOM_UNNTAK']\n",
    "untak_fra_gradering_nattvåk_og_beresdkap"
   ]
  },
  {
   "cell_type": "code",
   "execution_count": null,
   "id": "9aba9bf1-a3f8-4e4d-b7b8-f9fcff2ee7d3",
   "metadata": {},
   "outputs": [],
   "source": []
  },
  {
   "cell_type": "code",
   "execution_count": null,
   "id": "425bf3c6-0f01-4602-b637-9df0664e75ff",
   "metadata": {},
   "outputs": [],
   "source": []
  },
  {
   "cell_type": "code",
   "execution_count": null,
   "id": "db2ec244-de62-43e1-a6f3-af073ab7615e",
   "metadata": {},
   "outputs": [],
   "source": []
  },
  {
   "cell_type": "code",
   "execution_count": null,
   "id": "3e163d91-af72-4b91-b0d1-440cc3eb1def",
   "metadata": {},
   "outputs": [],
   "source": []
  },
  {
   "cell_type": "code",
   "execution_count": null,
   "id": "8e0d08b0-bc66-4e24-bccc-80ba0eaead41",
   "metadata": {},
   "outputs": [],
   "source": [
    "%history"
   ]
  },
  {
   "cell_type": "code",
   "execution_count": null,
   "id": "9b712b7c-c7e5-4023-9a36-0e2ef96e8845",
   "metadata": {},
   "outputs": [],
   "source": []
  }
 ],
 "metadata": {
  "kernelspec": {
   "display_name": "Python 3 (ipykernel)",
   "language": "python",
   "name": "python3"
  },
  "language_info": {
   "codemirror_mode": {
    "name": "ipython",
    "version": 3
   },
   "file_extension": ".py",
   "mimetype": "text/x-python",
   "name": "python",
   "nbconvert_exporter": "python",
   "pygments_lexer": "ipython3",
   "version": "3.10.6"
  }
 },
 "nbformat": 4,
 "nbformat_minor": 5
}
