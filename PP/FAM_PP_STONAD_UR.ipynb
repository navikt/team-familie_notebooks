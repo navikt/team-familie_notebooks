{
 "cells": [
  {
   "cell_type": "code",
   "execution_count": null,
   "id": "81615093-2b6a-40e6-a005-47c11d99c581",
   "metadata": {},
   "outputs": [],
   "source": [
    "import os\n",
    "import pyodbc\n",
    "import pandas as pd\n",
    "import numpy as np\n",
    "import warnings\n",
    "import matplotlib\n",
    "import matplotlib.pyplot as plt\n",
    "plt.style.use('ggplot')\n",
    "from matplotlib.pyplot import figure\n",
    "%matplotlib inline\n",
    "matplotlib.rcParams['figure.figsize'] = (12,8)\n",
    "\n",
    "import seaborn as sns\n",
    "\n",
    "#warnings.filterwarnings(action='once')\n",
    "warnings.filterwarnings(action='ignore')\n",
    "\n",
    "import datetime, json\n",
    "import os\n",
    "from google.cloud import secretmanager"
   ]
  },
  {
   "cell_type": "code",
   "execution_count": null,
   "id": "3f611a5f-8c68-49cf-8299-3330f94b429d",
   "metadata": {},
   "outputs": [],
   "source": [
    "#pd.set_option('display.max_columns', None)"
   ]
  },
  {
   "cell_type": "code",
   "execution_count": null,
   "id": "a252cdab-c689-40b5-b289-e762ec075c69",
   "metadata": {},
   "outputs": [],
   "source": [
    "def set_secrets_as_envs():\n",
    "  secrets = secretmanager.SecretManagerServiceClient()\n",
    "  resource_name = f\"{os.environ['KNADA_TEAM_SECRET']}/versions/latest\"\n",
    "  secret = secrets.access_secret_version(name=resource_name)\n",
    "  secret_str = secret.payload.data.decode('UTF-8')\n",
    "  secrets = json.loads(secret_str)\n",
    "  os.environ.update(secrets)"
   ]
  },
  {
   "cell_type": "code",
   "execution_count": null,
   "id": "fae05397-6767-4646-8682-b065ead57a93",
   "metadata": {},
   "outputs": [],
   "source": [
    "import os\n",
    "import pyodbc\n",
    "import pandas as pd\n",
    "\n",
    "set_secrets_as_envs()\n",
    "\n",
    "def create_tdv_conn(connection_string):\n",
    "    \"\"\"Funksjon for å lage connection til TDV med connection streng.\"\"\"\n",
    "    conn = pyodbc.connect(connection_string)\n",
    "    conn.setencoding(encoding='utf-8')\n",
    "    conn.setdecoding(pyodbc.SQL_WCHAR, encoding='utf-8')\n",
    "    conn.setdecoding(pyodbc.SQL_CHAR, encoding='utf-8')\n",
    "    conn.setdecoding(pyodbc.SQL_WMETADATA, encoding='utf-32le')\n",
    "    return conn\n",
    "    \n",
    "conn = create_tdv_conn(os.environ['TDV_CONN_STR'])\n",
    "sql = \"\"\"select * from FAM_PP_STONAD_UR\"\"\"\n",
    "\n",
    "df = pd.read_sql(sql, conn)"
   ]
  },
  {
   "cell_type": "code",
   "execution_count": null,
   "id": "7e4abe82-1431-4015-88bc-2ab7d1786e07",
   "metadata": {},
   "outputs": [],
   "source": [
    "df.head(3)"
   ]
  },
  {
   "cell_type": "code",
   "execution_count": null,
   "id": "c2076d3e-2c35-42ea-ad74-0e27fdee915f",
   "metadata": {},
   "outputs": [],
   "source": [
    "df = df[['PERIODE','FK_PERSON1_OMSORGSPERSON', 'FK_PERSON1_PLEIETRENGENDE','RELASJON_TIL_OMSORGSPERSON', 'YRKESSTATUS', 'KOMMUNE_NR',\n",
    "       'DIAGNOSE_TYPE', 'DIAGNOSE_KODE', 'IDENTDATO','VEDTAKS_DATO', 'ANVIST_FOM', 'ANVIST_TOM', 'ANVIST_DATO',\n",
    "       'YTELSE_TYPE', 'BRUTTO_BEREGNINGSGRUNNLAG', 'FORBRUKTE_DAGER','FORBRUKTE_DAGER_VEKTET', 'UTTAKSGRAD', 'DAGSATS', 'DAGSATS_TOTAL',\n",
    "       'BELOP', 'ANTALL_DAGER', 'UTBETALINGSGRAD', 'PLEIEBEHOV','OPPGITT_TILSYN', 'SOKERS_TAPTE_TIMER', 'SOKERS_TAPTE_ARBEIDSTID',\n",
    "       'UTFALL', 'MAX_VEDTAKSDATO']]"
   ]
  },
  {
   "cell_type": "code",
   "execution_count": null,
   "id": "df3c7987-384f-4487-b3cd-65a2137eb265",
   "metadata": {},
   "outputs": [],
   "source": [
    "# converting FK_PERSON1_OMSORGSPERSON & FK_PERSON1_PLEIETRENGENDE to string\n",
    "\n",
    "df['FK_PERSON1_OMSORGSPERSON'] = df['FK_PERSON1_OMSORGSPERSON'].astype(str).apply(lambda x: x.replace('.0', ''))\n",
    "df['FK_PERSON1_PLEIETRENGENDE'] = df['FK_PERSON1_PLEIETRENGENDE'].astype(str).apply(lambda x: x.replace('.0', ''))"
   ]
  },
  {
   "cell_type": "code",
   "execution_count": null,
   "id": "7a7da7c8-56fc-4db0-a866-0a6e05f9f472",
   "metadata": {},
   "outputs": [],
   "source": [
    "df.shape"
   ]
  },
  {
   "cell_type": "code",
   "execution_count": null,
   "id": "9bb666f0-ea29-4c7b-b214-3a9335b1eed4",
   "metadata": {},
   "outputs": [],
   "source": [
    "df.info()"
   ]
  },
  {
   "cell_type": "code",
   "execution_count": null,
   "id": "80e5d7c7-b0d3-4921-8289-87eb67902beb",
   "metadata": {},
   "outputs": [],
   "source": [
    "filt = (df.duplicated(keep=False))\n",
    "df.loc[filt].sort_values(by = 'FK_PERSON1_OMSORGSPERSON')"
   ]
  },
  {
   "cell_type": "code",
   "execution_count": null,
   "id": "e9a29ae2-5add-45ba-9f5e-a2ac050089c0",
   "metadata": {},
   "outputs": [],
   "source": [
    "df.isna().sum().plot(kind = 'bar')"
   ]
  },
  {
   "cell_type": "code",
   "execution_count": null,
   "id": "2c49fcde-5212-4958-a2fa-42cf47d2ffdc",
   "metadata": {},
   "outputs": [],
   "source": [
    " df.drop(columns = 'MAX_VEDTAKSDATO', axis = 1, inplace = True)"
   ]
  },
  {
   "cell_type": "code",
   "execution_count": null,
   "id": "87b9e479-edc0-4dad-8d09-b9ea0a4c688a",
   "metadata": {},
   "outputs": [],
   "source": [
    "df.isna().sum().plot(kind = 'bar')"
   ]
  },
  {
   "cell_type": "code",
   "execution_count": null,
   "id": "735a2be0-3121-412d-8559-55549014a065",
   "metadata": {},
   "outputs": [],
   "source": [
    "# det er en sammenheng mellom tømme YRKESSTATUS og UTBETALINGSGRAD verdier (kanskje de ikke er hentet riktig?)\n",
    "\n",
    "filt = (df['YRKESSTATUS'].isna() & df['UTBETALINGSGRAD'].isna())\n",
    "df.loc[filt]"
   ]
  },
  {
   "cell_type": "code",
   "execution_count": null,
   "id": "c4e52a36-4f58-4a90-8e9d-3e416a451aa9",
   "metadata": {},
   "outputs": [],
   "source": [
    "# av de 6316 er det som er - linjer 2291\n",
    "\n",
    "filt = (df['YRKESSTATUS'].isna() & df['UTBETALINGSGRAD'].isna() & df['BELOP'].astype(str).str.contains('-'))\n",
    "df.loc[filt]\n",
    "\n",
    "#len(df[df['BELOP'].astype(str).str.contains('-')])"
   ]
  },
  {
   "cell_type": "code",
   "execution_count": null,
   "id": "84a8bf78-b2c8-424a-9f70-e292e257574f",
   "metadata": {},
   "outputs": [],
   "source": [
    "# Kalkulerer SOKERS_TAPTE_TIMER i reall tid (hours:minutes) basert \n",
    "def finn_tid(x):\n",
    "    tid = ''\n",
    "    if pd.isna(x):\n",
    "        tid = x\n",
    "    elif 'H' not in x and 'M' not in x and 'S' not in x:\n",
    "        tid = x[2:]\n",
    "    elif 'M' not in x:\n",
    "        tid = x[2: x.find('H')]\n",
    "    elif 'H' not in x and 'M' in x:\n",
    "        tid = str(float(round(int(x[2: x.find('M')])/60, 3)))\n",
    "    else:\n",
    "        tid = x[2: x.find('H')] + '.' + str(round(int(x[x.find('H')+1 : x.find('M')])/60, 3)).split('.')[-1]  \n",
    "    return tid"
   ]
  },
  {
   "cell_type": "code",
   "execution_count": null,
   "id": "6a01d1fc-c6fd-40d4-951c-d9c496dcfea2",
   "metadata": {},
   "outputs": [],
   "source": [
    "# Extract timer og minutter(kalkulert til timer) fra SOKERS_TAPTE_TIMER --> kanskje kan brukes til noe fornuftig\n",
    "df['SOKERS_TAPTE_TIMER_TM'] = df['SOKERS_TAPTE_TIMER'].apply(finn_tid).astype(float)"
   ]
  },
  {
   "cell_type": "code",
   "execution_count": null,
   "id": "aded44f0-bbb1-45f9-8165-b99e94e014fa",
   "metadata": {},
   "outputs": [],
   "source": [
    "# se på rader hvor FORBRUKTE_DAGER er ikke lik ANTALL_DAGER\n",
    "\n",
    "filt = (df['FORBRUKTE_DAGER'] != df['ANTALL_DAGER'])\n",
    "df.loc[filt, ['FORBRUKTE_DAGER', 'ANTALL_DAGER']]"
   ]
  },
  {
   "cell_type": "code",
   "execution_count": null,
   "id": "de645953-1925-483e-b624-044671105c93",
   "metadata": {},
   "outputs": [],
   "source": [
    "filt = ((df['BRUTTO_BEREGNINGSGRUNNLAG'] > (111477*6)) & (df['PERIODE'] == 202208))\n",
    "df.loc[filt, 'DAGSATS_TOTAL']"
   ]
  },
  {
   "cell_type": "code",
   "execution_count": null,
   "id": "494e2f5e-8f57-4ddb-8273-67001ec9bdd1",
   "metadata": {},
   "outputs": [],
   "source": [
    "2573*15/100"
   ]
  },
  {
   "cell_type": "code",
   "execution_count": null,
   "id": "cdc1fc68-4837-42b3-a6cf-0d14160187d6",
   "metadata": {},
   "outputs": [],
   "source": [
    "df['DAGSATS'].max()"
   ]
  },
  {
   "cell_type": "code",
   "execution_count": null,
   "id": "641fd331-b371-4936-8d2a-a4237a6a7d26",
   "metadata": {},
   "outputs": [],
   "source": [
    "df.columns"
   ]
  },
  {
   "cell_type": "code",
   "execution_count": null,
   "id": "c2530a84-5e1e-451a-b34c-e54027d7be07",
   "metadata": {},
   "outputs": [],
   "source": [
    "\n",
    "#np.count_nonzero\n",
    "df[['PERIODE', 'UTFALL', 'FK_PERSON1_PLEIETRENGENDE']].pivot_table(index = 'PERIODE', columns = 'UTFALL', aggfunc = lambda x: len(x.unique()), fill_value=0)"
   ]
  },
  {
   "cell_type": "code",
   "execution_count": null,
   "id": "41e28149-a392-4363-9ca3-5091fc8bf9ed",
   "metadata": {},
   "outputs": [],
   "source": [
    "df.columns\n",
    "# grouppert på anvist (stonadsperiode)\n",
    "# fam_pp_perioder_utbet_grader"
   ]
  },
  {
   "cell_type": "code",
   "execution_count": null,
   "id": "e8b50082-1499-4e5e-a7b4-11766ade820d",
   "metadata": {},
   "outputs": [],
   "source": [
    "#filt = (df['RELASJON_TIL_OMSORGSPERSON'].isna())\n",
    "#df.loc[filt]"
   ]
  },
  {
   "cell_type": "code",
   "execution_count": null,
   "id": "289075e8-b221-4134-9944-883ed7991403",
   "metadata": {},
   "outputs": [],
   "source": [
    "#df[['ANVIST_FOM', 'ANVIST_TOM', 'ANVIST_DATO']]"
   ]
  },
  {
   "cell_type": "code",
   "execution_count": null,
   "id": "e7db33e4-c9de-4c6a-a23f-afd8302229f2",
   "metadata": {},
   "outputs": [],
   "source": [
    "#df['YTELSE_TYPE'].unique()"
   ]
  },
  {
   "cell_type": "code",
   "execution_count": null,
   "id": "58e9303d-e337-4039-9603-c64c846780b8",
   "metadata": {},
   "outputs": [],
   "source": [
    "df_begrenset = df[['PERIODE','FK_PERSON1_OMSORGSPERSON', 'FK_PERSON1_PLEIETRENGENDE',\n",
    "       'RELASJON_TIL_OMSORGSPERSON','DIAGNOSE_KODE',\n",
    "       'VEDTAKS_DATO', 'ANVIST_FOM', 'ANVIST_TOM', 'BRUTTO_BEREGNINGSGRUNNLAG', 'FORBRUKTE_DAGER',\n",
    "       'FORBRUKTE_DAGER_VEKTET', 'UTTAKSGRAD', 'DAGSATS', 'DAGSATS_TOTAL','BELOP', 'ANTALL_DAGER', 'UTBETALINGSGRAD',\n",
    "        'PLEIEBEHOV','SOKERS_TAPTE_TIMER', 'SOKERS_TAPTE_ARBEIDSTID']]"
   ]
  },
  {
   "cell_type": "code",
   "execution_count": null,
   "id": "1af6b4d2-1e41-46d6-b657-2339151c3478",
   "metadata": {},
   "outputs": [],
   "source": [
    "df_begrenset.head()"
   ]
  },
  {
   "cell_type": "code",
   "execution_count": null,
   "id": "faf5bf82-f18f-4689-b5bc-2e992378204a",
   "metadata": {},
   "outputs": [],
   "source": [
    "round(df_begrenset.describe().drop('PERIODE', axis = 1), 1)"
   ]
  },
  {
   "cell_type": "code",
   "execution_count": null,
   "id": "7bbb5279-c1ed-44f9-be66-6b6c044aca35",
   "metadata": {},
   "outputs": [],
   "source": [
    "#df_begrenset.columns"
   ]
  },
  {
   "cell_type": "code",
   "execution_count": null,
   "id": "331b5eaf-be1d-4bed-b908-57753528b984",
   "metadata": {},
   "outputs": [],
   "source": [
    "filt = (df_begrenset['PLEIEBEHOV'] == 200)\n",
    "df_begrenset.loc[filt]"
   ]
  },
  {
   "cell_type": "code",
   "execution_count": null,
   "id": "0374b563-4b99-4c7f-9351-1e50299bed81",
   "metadata": {},
   "outputs": [],
   "source": [
    "# sjekk pleiebehov for denne FK_PERSON1_PLEIETRENGENDE\n",
    "\n",
    "filt = (df_begrenset['FK_PERSON1_PLEIETRENGENDE'].isin(['1339862686']) & (df_begrenset['PERIODE'].isin([202111, 202112])))\n",
    "df_begrenset.loc[filt].sort_values(by = 'ANVIST_FOM')"
   ]
  },
  {
   "cell_type": "code",
   "execution_count": null,
   "id": "8aa953ef-6136-4897-86f8-057fe3068a14",
   "metadata": {},
   "outputs": [],
   "source": [
    "filt = (df['RELASJON_TIL_OMSORGSPERSON'].isna())\n",
    "\n",
    "df.loc[filt]\n",
    "\n",
    "#df['RELASJON_TIL_OMSORGSPERSON'].isna().sum()"
   ]
  },
  {
   "cell_type": "code",
   "execution_count": null,
   "id": "214d5c5e-c8e3-4a2d-982e-b554c06db928",
   "metadata": {},
   "outputs": [],
   "source": [
    "# bare 1 OMSORGSPERSON men 200% pleiebehov\n",
    "\n",
    "filt = (df_begrenset['FK_PERSON1_OMSORGSPERSON'] == '1174428389')\n",
    "df_begrenset[filt]"
   ]
  },
  {
   "cell_type": "code",
   "execution_count": null,
   "id": "a6a7f35f-08c3-4320-87d3-5a47112dcef5",
   "metadata": {},
   "outputs": [],
   "source": [
    "df['PERIODE_EXTRACT_F'] = df['ANVIST_FOM'].apply(lambda x: str(x).replace('-','')[:6])\n",
    "df['PERIODE_EXTRACT_T'] = df['ANVIST_TOM'].apply(lambda x: str(x).replace('-','')[:6])"
   ]
  },
  {
   "cell_type": "code",
   "execution_count": null,
   "id": "9db52c18-313a-4030-88e2-18ab508ee321",
   "metadata": {},
   "outputs": [],
   "source": [
    "df['PERIODE_EXTRACT_F']"
   ]
  },
  {
   "cell_type": "code",
   "execution_count": null,
   "id": "0121ee93-d087-4ab5-be40-a43439e56dc7",
   "metadata": {},
   "outputs": [],
   "source": [
    "# sjekker at beregning av periode fra ANVIST_FOM og ANVIST_TOM er likt\n",
    "\n",
    "filt = (df['PERIODE_EXTRACT_F'] != df['PERIODE_EXTRACT_T'])\n",
    "df.loc[filt]"
   ]
  },
  {
   "cell_type": "code",
   "execution_count": null,
   "id": "7311908a-e993-40c4-a21c-6e592730f9d1",
   "metadata": {},
   "outputs": [],
   "source": [
    "filt = (df['PERIODE'].astype(str) != df['PERIODE_EXTRACT_T'])\n",
    "df[filt]"
   ]
  },
  {
   "cell_type": "code",
   "execution_count": null,
   "id": "b3f00c4b-5ff6-493e-ad22-7557e0bbf45c",
   "metadata": {},
   "outputs": [],
   "source": [
    "df['ANVIST_FOM'] = pd.to_datetime(df['ANVIST_FOM'])\n",
    "#df['STATISTIKK_FOM'] = pd.to_datetime(df['STATISTIKK_FOM'])"
   ]
  },
  {
   "cell_type": "code",
   "execution_count": null,
   "id": "49213a73-2fe1-4af9-b63c-3bd92180777c",
   "metadata": {},
   "outputs": [],
   "source": [
    "# antall OMSORGSPERSON per pleiebehov distiburt på PERIODE\n",
    "\n",
    "df[['PERIODE', 'PLEIEBEHOV', 'FK_PERSON1_OMSORGSPERSON']].pivot_table(index = 'PERIODE',\n",
    "                                                                                   columns = 'PLEIEBEHOV', aggfunc = lambda x: len(x.unique()), fill_value=0, margins = True)"
   ]
  },
  {
   "cell_type": "code",
   "execution_count": null,
   "id": "abaa37c2-c11a-4fb4-93b0-ab189a2fafee",
   "metadata": {},
   "outputs": [],
   "source": [
    "# antall PLEIETRENGENDE per pleiebehov distiburt på PERIODE\n",
    "\n",
    "df[['PERIODE', 'PLEIEBEHOV', 'FK_PERSON1_PLEIETRENGENDE']].pivot_table(index = 'PERIODE',\n",
    "                                                                                   columns = 'PLEIEBEHOV', aggfunc = lambda x: len(x.unique()), fill_value=0, margins = True)"
   ]
  },
  {
   "cell_type": "code",
   "execution_count": null,
   "id": "5b3f7d6e-b460-4739-be0c-bf0cfb228162",
   "metadata": {},
   "outputs": [],
   "source": [
    "# antall PLEIETRENGENDE per pleiebehov distiburt på PERIODE\n",
    "\n",
    "df[['PERIODE', 'BELOP']].pivot_table(index = 'PERIODE',columns = 'BELOP', aggfunc = lambda x: np.sum(x), fill_value=0, margins=True)"
   ]
  },
  {
   "cell_type": "code",
   "execution_count": null,
   "id": "2995139d-f071-46a5-8e87-306d6267fc90",
   "metadata": {},
   "outputs": [],
   "source": [
    "filt = (df['PERIODE'] == 202201)\n",
    "np.sum(df.loc[filt, 'BELOP'])"
   ]
  },
  {
   "cell_type": "code",
   "execution_count": null,
   "id": "3edeee6f-3d7e-4557-aeef-eb7fc5c616dc",
   "metadata": {},
   "outputs": [],
   "source": [
    "#df_begrenset['PERIODE'].value_counts()\n",
    "df.groupby(['PERIODE', 'PLEIEBEHOV'])['FK_PERSON1_OMSORGSPERSON'].nunique()"
   ]
  },
  {
   "cell_type": "code",
   "execution_count": null,
   "id": "0ede804c-b09b-4c96-8d25-280f7c7fb79a",
   "metadata": {},
   "outputs": [],
   "source": [
    "#filt = ((df_begrenset['PERIODE'] == 202201) & (df_begrenset['PLEIEBEHOV'] == 200))\n",
    "#len(df_begrenset.loc[filt, 'FK_PERSON1_OMSORGSPERSON'].unique())"
   ]
  },
  {
   "cell_type": "code",
   "execution_count": null,
   "id": "8b546c29-30ec-450c-9fa4-649a883eea2c",
   "metadata": {
    "tags": []
   },
   "outputs": [],
   "source": [
    "#filt = df_begrenset['PERIODE'] == 202201\n",
    "#df_begrenset.loc[filt, 'FK_PERSON1_OMSORGSPERSON'].unique():"
   ]
  },
  {
   "cell_type": "code",
   "execution_count": null,
   "id": "601574a5-57b5-4ae5-9364-d46b146b414e",
   "metadata": {},
   "outputs": [],
   "source": [
    "df_begrenset['PERIODE_EXTRACT_F'].value_counts()\n",
    "df_begrenset.groupby(['PERIODE_EXTRACT_F', 'PLEIEBEHOV'])['FK_PERSON1_OMSORGSPERSON'].nunique()"
   ]
  },
  {
   "cell_type": "code",
   "execution_count": null,
   "id": "f8d451c2-ac0a-4d61-95ae-0b1b99dd975e",
   "metadata": {},
   "outputs": [],
   "source": [
    "df_begrenset[['PERIODE_EXTRACT_F', 'PLEIEBEHOV', 'FK_PERSON1_OMSORGSPERSON']].pivot_table(index = 'PERIODE_EXTRACT_F',\n",
    "                                                                                   columns = 'PLEIEBEHOV', aggfunc = lambda x: len(x.unique()), fill_value=0)"
   ]
  },
  {
   "cell_type": "code",
   "execution_count": null,
   "id": "7eefed0c-38d2-498f-ae51-dc707fe40d3d",
   "metadata": {},
   "outputs": [],
   "source": []
  },
  {
   "cell_type": "code",
   "execution_count": null,
   "id": "80748a38-5fff-4fb9-8fd8-45025aa4a823",
   "metadata": {},
   "outputs": [],
   "source": [
    "df_begrenset['DIAGNOSE_KODE'].value_counts(dropna=True)[:10].plot(kind='bar')"
   ]
  },
  {
   "cell_type": "code",
   "execution_count": null,
   "id": "0524dd5c-6d25-4309-863f-e80bb9f2657c",
   "metadata": {},
   "outputs": [],
   "source": [
    "# topp 5 diagnoser for 200% pleietrengende\n",
    "filt = (df_begrenset['PLEIEBEHOV'] == 100)\n",
    "\n",
    "df_begrenset.loc[filt,'DIAGNOSE_KODE'].value_counts(dropna=True)[:5].plot(kind='bar')"
   ]
  },
  {
   "cell_type": "code",
   "execution_count": null,
   "id": "75f9b4ac-744e-4a3b-bd12-5de3dd91a8a9",
   "metadata": {},
   "outputs": [],
   "source": [
    "# topp 5 diagnoser for 200% pleietrengende\n",
    "filt = (df_begrenset['PLEIEBEHOV'] == 200)\n",
    "\n",
    "df_begrenset.loc[filt,'DIAGNOSE_KODE'].value_counts(dropna=True)[:5].plot(kind='bar')"
   ]
  },
  {
   "cell_type": "code",
   "execution_count": null,
   "id": "48e8bba8-a7c8-4255-96a1-9f6aedd39015",
   "metadata": {},
   "outputs": [],
   "source": [
    "#df_begrenset.pivot_table(index = 'FK_PERSON1_PLEIETRENGENDE', columns = 'DIAGNOSE_KODE', aggfunc='count', sort = True)"
   ]
  },
  {
   "cell_type": "code",
   "execution_count": null,
   "id": "0559f749-c25b-499a-83b8-c23bc9e263d7",
   "metadata": {},
   "outputs": [],
   "source": [
    "pd.crosstab(df_begrenset['PERIODE'], df_begrenset['PLEIEBEHOV'])"
   ]
  },
  {
   "cell_type": "code",
   "execution_count": null,
   "id": "3c17bba2-c86d-40c7-8c9f-a3076e3d56be",
   "metadata": {},
   "outputs": [],
   "source": [
    "# pleiebehov er 0\n",
    "\n",
    "filt = (df_begrenset['PLEIEBEHOV'] == 0)\n",
    "df_begrenset.loc[filt].sort_values(by = 'FK_PERSON1_PLEIETRENGENDE')"
   ]
  },
  {
   "cell_type": "code",
   "execution_count": null,
   "id": "cd5fec25-0da5-43aa-9a66-8ae3315bf734",
   "metadata": {},
   "outputs": [],
   "source": [
    "# 494677725 har kun 1 + linje og ikke - fra spørringen ovenfor\n",
    "\n",
    "filt = ((df_begrenset['PLEIEBEHOV'] == 0) & (df_begrenset['FK_PERSON1_PLEIETRENGENDE'] == '494677725'))\n",
    "df_begrenset.loc[filt]"
   ]
  },
  {
   "cell_type": "code",
   "execution_count": null,
   "id": "924911df-364c-4e96-8e40-843b4e58012d",
   "metadata": {},
   "outputs": [],
   "source": [
    "filt = ((df_begrenset['FK_PERSON1_OMSORGSPERSON'] == '166623817') & (df_begrenset['PERIODE'] == 202111))\n",
    "df_begrenset.loc[filt, ['PERIODE', 'VEDTAKS_DATO', 'ANVIST_FOM',\n",
    "       'ANVIST_TOM',  \n",
    "       'BRUTTO_BEREGNINGSGRUNNLAG', 'FORBRUKTE_DAGER',\n",
    "       'FORBRUKTE_DAGER_VEKTET', 'UTTAKSGRAD', 'DAGSATS', 'DAGSATS_TOTAL',\n",
    "       'BELOP', 'ANTALL_DAGER', 'UTBETALINGSGRAD', 'PLEIEBEHOV',\n",
    "       'SOKERS_TAPTE_TIMER', 'SOKERS_TAPTE_ARBEIDSTID']]"
   ]
  },
  {
   "cell_type": "code",
   "execution_count": null,
   "id": "9fe93420-5fcd-45b6-8550-d4c986bccb66",
   "metadata": {},
   "outputs": [],
   "source": [
    "#tid = ''\n",
    "#s = 'PT3H22M30S'[2:]\n",
    "#tid = s[:s.find('H')] + '.' + str(round(int(s[s.find('H')+1:s.find('M')])/60, 3)).split('.')[-1]\n",
    "#float(tid)"
   ]
  },
  {
   "cell_type": "code",
   "execution_count": null,
   "id": "931eb73d-c174-4c0b-935c-24314d346540",
   "metadata": {},
   "outputs": [],
   "source": [
    "#l = ['PT7H38M', 'PT10H38M', 'PT8H38M24S', 'PT3H38M', 'PT3H38M', 'PT3H38M','PT8H38M', 'PT1H38M','PT38M', 'PT2H38M','PT5H38M']\n",
    "\n",
    "#x = 'PT38M'\n",
    "#tid = x[2: x.find('H')] + '.' + str(round(int(x[x.find('H')+1 : x.find('M')])/60, 3)).split('.')[-1]  \n",
    "#finn_tid(x)\n",
    "#for i in l:\n",
    "#    print(i, finn_tid(i))\n",
    "#tid"
   ]
  },
  {
   "cell_type": "code",
   "execution_count": null,
   "id": "7bb6452c-2ccb-4144-8597-e9828182396b",
   "metadata": {},
   "outputs": [],
   "source": []
  },
  {
   "cell_type": "code",
   "execution_count": null,
   "id": "ac9b6711-bc62-45cb-af88-990d95c2aacb",
   "metadata": {},
   "outputs": [],
   "source": [
    "df_begrenset['SOKERS_TAPTE_TIMER_TM'] = df_begrenset['SOKERS_TAPTE_TIMER'].apply(finn_tid).astype(float)"
   ]
  },
  {
   "cell_type": "code",
   "execution_count": null,
   "id": "bc055e9e-5900-411f-93af-d221334e6ec9",
   "metadata": {},
   "outputs": [],
   "source": [
    "df_begrenset['SOKERS_TAPTE_TIMER_TM'].dtype\n",
    "#type(df_begrenset['SOKERS_TAPTE_TIMER_TM'][0])"
   ]
  },
  {
   "cell_type": "code",
   "execution_count": null,
   "id": "c2602603-c9d7-4ff2-8290-a44e3a643237",
   "metadata": {},
   "outputs": [],
   "source": [
    "df_begrenset['SOKERS_TAPTE_TIMER_TM'].describe()"
   ]
  },
  {
   "cell_type": "code",
   "execution_count": null,
   "id": "637dc82a-5cb3-4660-a9e2-31e829ff27af",
   "metadata": {},
   "outputs": [],
   "source": [
    "df_begrenset['SOKERS_TAPTE_TIMER_TM']"
   ]
  },
  {
   "cell_type": "code",
   "execution_count": null,
   "id": "67fc7f8f-deec-4c13-8e9e-817e9539375c",
   "metadata": {},
   "outputs": [],
   "source": [
    "df_begrenset.head()"
   ]
  },
  {
   "cell_type": "code",
   "execution_count": null,
   "id": "a09879ea-4c50-404d-a4e5-6fa726eb77b2",
   "metadata": {},
   "outputs": [],
   "source": [
    "filt = (df_begrenset['DAGSATS'] != df_begrenset['DAGSATS_TOTAL'])\n",
    "df_begrenset.loc[filt]"
   ]
  },
  {
   "cell_type": "code",
   "execution_count": null,
   "id": "8a889526-eca2-491b-b843-c0c64fb3e9ca",
   "metadata": {},
   "outputs": [],
   "source": [
    "filt = (df_begrenset['FK_PERSON1_PLEIETRENGENDE'] == '1396589741')\n",
    "df_begrenset.loc[filt]"
   ]
  },
  {
   "cell_type": "code",
   "execution_count": null,
   "id": "089f5b29-60a9-4ef4-848a-045214cace72",
   "metadata": {},
   "outputs": [],
   "source": [
    "filt = (df_begrenset['SOKERS_TAPTE_ARBEIDSTID'] != 100.00)\n",
    "df_begrenset.loc[filt]"
   ]
  },
  {
   "cell_type": "code",
   "execution_count": null,
   "id": "29c12f83-f6ba-4ac9-bbed-9c0e9f093324",
   "metadata": {},
   "outputs": [],
   "source": [
    "filt = (df_begrenset['FK_PERSON1_PLEIETRENGENDE'] == '1116381753')\n",
    "df_begrenset.loc[filt].sort_values(by = 'ANVIST_FOM')"
   ]
  },
  {
   "cell_type": "code",
   "execution_count": null,
   "id": "52cabd38-12b9-453c-9dc1-478b4c1dea3e",
   "metadata": {},
   "outputs": [],
   "source": [
    "df_begrenset['FK_PERSON1_OMSORGSPERSON'].astype(str)"
   ]
  },
  {
   "cell_type": "code",
   "execution_count": null,
   "id": "f887117d-06f6-4dbb-9bef-b353736a4715",
   "metadata": {},
   "outputs": [],
   "source": [
    "filt = df['UTTAKSGRAD'] < 30.00\n",
    "df_begrenset.loc[filt]"
   ]
  },
  {
   "cell_type": "code",
   "execution_count": null,
   "id": "5a3a7b0f-ca06-4df9-bf21-3d7e2e2bc204",
   "metadata": {},
   "outputs": [],
   "source": [
    "filt = (df_begrenset['FK_PERSON1_OMSORGSPERSON'] == '558422114')\n",
    "df_begrenset.loc[filt]"
   ]
  },
  {
   "cell_type": "code",
   "execution_count": null,
   "id": "b1e8c76f-b7e0-4336-976e-51474fc33317",
   "metadata": {},
   "outputs": [],
   "source": [
    "df_begrenset[['PERIODE', 'FK_PERSON1_OMSORGSPERSON','FORBRUKTE_DAGER', 'FORBRUKTE_DAGER_VEKTET', 'PLEIEBEHOV','UTTAKSGRAD', 'DAGSATS',\n",
    "       'DAGSATS_TOTAL', 'BELOP', 'ANTALL_DAGER', 'UTBETALINGSGRAD',\n",
    "        'SOKERS_TAPTE_TIMER', 'SOKERS_TAPTE_ARBEIDSTID',\n",
    "       'SOKERS_TAPTE_TIMER_TM']].head()"
   ]
  },
  {
   "cell_type": "code",
   "execution_count": null,
   "id": "23f6b372-aeea-4889-8022-bde6b9895d31",
   "metadata": {},
   "outputs": [],
   "source": [
    "df_begrenset['UTTAKSGRAD']"
   ]
  },
  {
   "cell_type": "code",
   "execution_count": null,
   "id": "e387862e-ab79-45a6-96c8-5cf4fe24f975",
   "metadata": {},
   "outputs": [],
   "source": []
  }
 ],
 "metadata": {
  "kernelspec": {
   "display_name": "Python 3 (ipykernel)",
   "language": "python",
   "name": "python3"
  },
  "language_info": {
   "codemirror_mode": {
    "name": "ipython",
    "version": 3
   },
   "file_extension": ".py",
   "mimetype": "text/x-python",
   "name": "python",
   "nbconvert_exporter": "python",
   "pygments_lexer": "ipython3",
   "version": "3.10.6"
  }
 },
 "nbformat": 4,
 "nbformat_minor": 5
}
