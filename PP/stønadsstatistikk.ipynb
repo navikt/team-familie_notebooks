{
 "cells": [
  {
   "cell_type": "code",
   "execution_count": null,
   "id": "b48dc33f-e0cd-4edb-bead-471018f138a7",
   "metadata": {},
   "outputs": [],
   "source": [
    "import cx_Oracle\n",
    "from os import getenv\n",
    "\n",
    "import numpy as np\n",
    "import pandas as pd\n",
    "\n",
    "import datetime, json\n",
    "import os\n",
    "from google.cloud import secretmanager\n",
    "\n",
    "import matplotlib\n",
    "import matplotlib.pyplot as plt\n",
    "plt.style.use('ggplot')\n",
    "from matplotlib.pyplot import figure\n",
    "%matplotlib inline\n",
    "matplotlib.rcParams['figure.figsize'] = (20,12)\n",
    "\n",
    "import seaborn as sns\n",
    "\n",
    "import plotly \n",
    "import plotly.express as px\n",
    "import plotly.graph_objs as go\n",
    "import plotly.offline as py\n",
    "from plotly.offline import iplot\n",
    "from plotly.subplots import make_subplots\n",
    "import plotly.figure_factory as ff\n",
    "\n",
    "import cufflinks as cf\n",
    "cf.go_offline()\n",
    "cf.set_config_file(offline=False, world_readable=True)\n",
    "\n",
    "import warnings\n",
    "warnings.filterwarnings('ignore')"
   ]
  },
  {
   "cell_type": "code",
   "execution_count": null,
   "id": "2d294a52-0d35-4444-8715-2c4ec014a6cd",
   "metadata": {},
   "outputs": [],
   "source": [
    "def set_secrets_as_envs():\n",
    "  secrets = secretmanager.SecretManagerServiceClient()\n",
    "  resource_name = f\"{os.environ['KNADA_TEAM_SECRET']}/versions/latest\"\n",
    "  secret = secrets.access_secret_version(name=resource_name)\n",
    "  secret_str = secret.payload.data.decode('UTF-8')\n",
    "  secrets = json.loads(secret_str)\n",
    "  os.environ.update(secrets)"
   ]
  },
  {
   "cell_type": "code",
   "execution_count": null,
   "id": "eadcb263-ee11-49c2-b38b-fe607f45f1e3",
   "metadata": {},
   "outputs": [],
   "source": [
    "def oracle_secrets():\n",
    "  set_secrets_as_envs()\n",
    "  return dict(\n",
    "    user=os.getenv(\"UID\"),\n",
    "    password=os.getenv(\"PWD\"),\n",
    "    host = os.getenv(\"HOST\"),\n",
    "    service = os.getenv(\"SERVICE\"),\n",
    "    encoding=\"UTF-8\",\n",
    "    nencoding=\"UTF-8\"\n",
    "  )\n",
    "\n",
    "oracle_secrets = oracle_secrets()"
   ]
  },
  {
   "cell_type": "code",
   "execution_count": null,
   "id": "443b4052-2e32-4e1e-80ef-e022550bb646",
   "metadata": {},
   "outputs": [],
   "source": [
    "def get_data(sql):\n",
    "    user = oracle_secrets['user'] + '[DVH_FAM_PP]' #f\"[{schema}]\"\n",
    "    dsn_tns = cx_Oracle.makedsn(oracle_secrets['host'], 1521, service_name = oracle_secrets['service'])\n",
    "    try:\n",
    "        conn = cx_Oracle.connect(user = user, password = oracle_secrets['password'], dsn = dsn_tns)\n",
    "        df = pd.read_sql(sql = sql, con = conn)\n",
    "        conn.close()\n",
    "        return df\n",
    "    except cx_Oracle.Error as error:\n",
    "        print(error)"
   ]
  },
  {
   "cell_type": "code",
   "execution_count": null,
   "id": "081c92b7-d083-4ee0-8257-d88b4a4e3069",
   "metadata": {},
   "outputs": [],
   "source": [
    "sql = \"\"\" \n",
    "SELECT A.PERIODE, DIM_TID.DATO, A.UTBET_FOM, A.UTBET_TOM, A.FK_PERSON1_MOTTAKER, A.FK_PERSON1_PLEIETRENGENDE, A.UTFALL, A.OPPGITT_TILSYN\n",
    ",A.SAKSNUMMER, A.ARBEIDSFORHOLD_TYPE, A.PLEIEBEHOV\n",
    ",B.GMT_OVERSE_ETABLERT_TILSYN_AARSAK, B.GMT_ETABLERT_TILSYN\n",
    ",AARSAK.AARSAK\n",
    "FROM fam_pp_stonad A\n",
    "JOIN fam_pp_perioder B ON A.FK_PP_PERIODER=B.PK_PP_PERIODER\n",
    "LEFT OUTER JOIN fam_pp_periode_aarsak AARSAK ON AARSAK.FK_PP_PERIODER=B.PK_PP_PERIODER \n",
    "JOIN DT_P.DIM_TID DIM_TID ON DIM_TID.DIM_NIVAA=1 \n",
    "AND DIM_TID.DAG_I_UKE<6 \n",
    "AND DIM_TID.GYLDIG_FLAGG=1 \n",
    "AND A.UTBET_FOM<=DIM_TID.DATO \n",
    "AND A.UTBET_TOM>=DIM_TID.DATO\n",
    "WHERE A.KILDESYSTEM='PP_VEDTAK' AND A.GYLDIG_FLAGG=0 AND A.PERIODE>202200 AND A.PERIODE<202205\n",
    "and to_char(DIM_TID.DATO,'YYYYMM')=PERIODE\"\"\"\n",
    "\n",
    "df = get_data(sql = sql)"
   ]
  },
  {
   "cell_type": "code",
   "execution_count": null,
   "id": "eca05485-68dc-40f5-842d-d80e1e635711",
   "metadata": {},
   "outputs": [],
   "source": [
    "df.head()"
   ]
  },
  {
   "cell_type": "code",
   "execution_count": null,
   "id": "00be75a8-6700-44ba-9c02-eaa56f29efd5",
   "metadata": {},
   "outputs": [],
   "source": [
    "df.columns"
   ]
  },
  {
   "cell_type": "code",
   "execution_count": null,
   "id": "ea8c375f-f48b-47a7-8141-2db8ea29a61c",
   "metadata": {},
   "outputs": [],
   "source": [
    "filt = (df['PERIODE'] == '202201') & (df['FK_PERSON1_MOTTAKER'] == 627466587) #df['DATO'] == '2022-01-03'\n",
    "df.loc[filt].sort_values(by = 'DATO')[0:10]"
   ]
  },
  {
   "cell_type": "code",
   "execution_count": null,
   "id": "d8dd8f99-9f32-41f2-b641-09a6f5f113e6",
   "metadata": {},
   "outputs": [],
   "source": [
    "df['AARSAK'].unique()"
   ]
  },
  {
   "cell_type": "code",
   "execution_count": null,
   "id": "ac5e8b9a-0b42-4306-bcd8-cd86867d6487",
   "metadata": {},
   "outputs": [],
   "source": [
    "#filt = (df['UTBET_FOM'] == '2022-01-03') \n",
    "#len(df.loc[filt, 'FK_PERSON1_MOTTAKER'].unique())"
   ]
  },
  {
   "cell_type": "code",
   "execution_count": null,
   "id": "91ab865a-c613-453c-b45d-52fbea90b4f5",
   "metadata": {},
   "outputs": [],
   "source": [
    "filt = (df['DATO'] == '2022-01-12') & (df['UTFALL'] == 'OPPFYLT')\n",
    "len(df.loc[filt, 'FK_PERSON1_MOTTAKER'].unique())"
   ]
  },
  {
   "cell_type": "code",
   "execution_count": null,
   "id": "35e4f7de-23b0-4b9f-8791-2ef8098d2d0f",
   "metadata": {},
   "outputs": [],
   "source": []
  },
  {
   "cell_type": "code",
   "execution_count": null,
   "id": "f4f89e9d-c4c6-456f-abc1-f64ec8824045",
   "metadata": {},
   "outputs": [],
   "source": [
    "filt = ((df['FK_PERSON1_MOTTAKER'] == 1865745307) & (df['PERIODE'] == '202202'))\n",
    "df.loc[filt][:4]"
   ]
  },
  {
   "cell_type": "code",
   "execution_count": null,
   "id": "63152ea6-6de2-4e34-9c45-7c3a7aca562f",
   "metadata": {},
   "outputs": [],
   "source": [
    "filt = ((df['UTBET_FOM'] <= '20220112') & (df['UTBET_TOM'] >= '20220112'))\n",
    "hans = df.loc[filt]"
   ]
  },
  {
   "cell_type": "code",
   "execution_count": null,
   "id": "8267c5cf-050e-4380-91f9-7e5ecfc48ea7",
   "metadata": {},
   "outputs": [],
   "source": [
    "hans"
   ]
  },
  {
   "cell_type": "code",
   "execution_count": null,
   "id": "92ebf7c4-f978-4ee2-9dfa-50f1b44b7ca1",
   "metadata": {},
   "outputs": [],
   "source": [
    "filt = (hans['UTFALL'] == 'OPPFYLT')\n",
    "len(hans.loc[filt, 'FK_PERSON1_MOTTAKER'].unique())"
   ]
  },
  {
   "cell_type": "code",
   "execution_count": null,
   "id": "813a1230-e142-41f5-bc17-2962b115a428",
   "metadata": {},
   "outputs": [],
   "source": [
    "df.isna().sum().iplot(kind = 'bar')"
   ]
  },
  {
   "cell_type": "code",
   "execution_count": null,
   "id": "c66c860d-931e-4cb9-bf3f-0b2751a6cbcc",
   "metadata": {},
   "outputs": [],
   "source": []
  },
  {
   "cell_type": "code",
   "execution_count": null,
   "id": "260007df-35ce-47bf-866c-b4840245ed12",
   "metadata": {},
   "outputs": [],
   "source": [
    "pd.set_option('display.max_rows', 20)"
   ]
  },
  {
   "cell_type": "code",
   "execution_count": null,
   "id": "6dee3e25-434d-47a3-b575-a21a99a76180",
   "metadata": {},
   "outputs": [],
   "source": []
  },
  {
   "cell_type": "markdown",
   "id": "edda7d9c-4356-488a-998d-50ee820bf5da",
   "metadata": {
    "tags": []
   },
   "source": [
    "# Bestilling av stønadsstatistikk i forbindelse med endringer i 9-11"
   ]
  },
  {
   "cell_type": "markdown",
   "id": "7a83100c-1fee-48fd-8966-6e10fea2a17d",
   "metadata": {},
   "source": [
    "- Trenger totalt antall saker per dag (som er i søknadsperioden).\n",
    "- Hvilken tidsperiode uttrekket gjelder for\n",
    "    - Fullt uttrekk for alle data fra K9 \n",
    "    - Data per dag dataene gjelder for."
   ]
  },
  {
   "cell_type": "markdown",
   "id": "5a74ea15-fa48-4e93-977a-f15094ce6328",
   "metadata": {},
   "source": [
    "### total antall saker per dag"
   ]
  },
  {
   "cell_type": "code",
   "execution_count": null,
   "id": "5353981e-b4f3-41ec-9612-355ba28ea0c0",
   "metadata": {},
   "outputs": [],
   "source": [
    "ant_saker_per_dag = df.groupby('DATO')['SAKSNUMMER'].nunique().reset_index().set_index('DATO').rename(columns = {'SAKSNUMMER': 'ANTALL_SAKER'})\n",
    "ant_saker_per_dag"
   ]
  },
  {
   "cell_type": "code",
   "execution_count": null,
   "id": "d4a56b86-b81a-4668-8370-c5c793d470cc",
   "metadata": {},
   "outputs": [],
   "source": [
    "#df[['DATO', 'SAKSNUMMER']]"
   ]
  },
  {
   "cell_type": "code",
   "execution_count": null,
   "id": "92e1bc1d-fe85-4b15-b520-e8ff9300f3ba",
   "metadata": {},
   "outputs": [],
   "source": []
  },
  {
   "cell_type": "code",
   "execution_count": null,
   "id": "2e408662-a69d-4898-8bc8-93cd190a0e4d",
   "metadata": {},
   "outputs": [],
   "source": [
    "ant_saker_per_dag.iplot(kind = 'bar')"
   ]
  },
  {
   "cell_type": "markdown",
   "id": "835c2c34-b1eb-4b94-b5b9-4490d0eb16d8",
   "metadata": {},
   "source": [
    "- I hvor mange saker er det opplyst om timer med tilsynsordning?\n",
    "    - Antall saker med tilsynsordning per dag."
   ]
  },
  {
   "cell_type": "markdown",
   "id": "d57063bd-8aad-4df5-a8af-0f02e3afe448",
   "metadata": {},
   "source": [
    "### Antall saker med tilsynsordning per dag"
   ]
  },
  {
   "cell_type": "code",
   "execution_count": null,
   "id": "e747b824-7f79-46c6-9278-63dd146f4481",
   "metadata": {},
   "outputs": [],
   "source": [
    "#filt = ((df['GMT_ETABLERT_TILSYN'].notna()) & (df['GMT_ETABLERT_TILSYN'] > 0))\n",
    "#df.loc[filt].groupby('DATO')['SAKSNUMMER'].nunique().reset_index().set_index('DATO').rename(columns = {'SAKSNUMMER': 'ANTALL_SAKER'})[:20]"
   ]
  },
  {
   "cell_type": "code",
   "execution_count": null,
   "id": "02a1f601-6769-4451-91e0-76607b23d18a",
   "metadata": {},
   "outputs": [],
   "source": [
    "#df.loc[filt].groupby('DATO')['SAKSNUMMER'].nunique().iplot()"
   ]
  },
  {
   "cell_type": "markdown",
   "id": "740664c5-2cb9-460a-aa9f-b1858c7aa0ac",
   "metadata": {},
   "source": [
    "### Antall saker med tilsynsordning per dag UTFALL OPPFYLT og ikke OPPFYLT"
   ]
  },
  {
   "cell_type": "code",
   "execution_count": null,
   "id": "7ec25671-1d80-4669-951b-94cee03ca1e2",
   "metadata": {},
   "outputs": [],
   "source": [
    "#column_order = ['OPPFYLT', 'IKKE_OPPFYLT', 'TOTAL']\n",
    "\n",
    "#df.loc[filt][['DATO', 'SAKSNUMMER', 'UTFALL']].pivot_table(\n",
    "#    index = 'DATO', columns = 'UTFALL', values = 'SAKSNUMMER' ,aggfunc = lambda x: len(x.unique()), \n",
    "#                    margins = True, margins_name = 'TOTAL').reindex(column_order, axis = 1)"
   ]
  },
  {
   "cell_type": "code",
   "execution_count": null,
   "id": "54782cd6-7e22-462d-a8ac-5e1afe99004c",
   "metadata": {},
   "outputs": [],
   "source": [
    "filt = ((df['GMT_ETABLERT_TILSYN'].notna()) & (df['GMT_ETABLERT_TILSYN'] > 0))\n",
    "\n",
    "column_order = ['OPPFYLT', 'IKKE_OPPFYLT', 'TOTAL']\n",
    "\n",
    "tilsynsordning = df.loc[filt][['DATO', 'SAKSNUMMER', 'UTFALL']].pivot_table(\n",
    "    index = 'DATO', columns = 'UTFALL', values = 'SAKSNUMMER' ,aggfunc = lambda x: len(x.unique()), \n",
    "                    margins = True, margins_name = 'TOTAL').reindex(column_order, axis = 1)"
   ]
  },
  {
   "cell_type": "code",
   "execution_count": null,
   "id": "75fd7270-0cce-4e25-afb5-3d45ce124e4f",
   "metadata": {},
   "outputs": [],
   "source": [
    "tilsynsordning.columns = [''] * len(tilsynsordning.columns)\n",
    "tilsynsordning.columns =['Ant_sak_tilsyn_opp', 'Ant_sak_tilsyn_ikke_opp', 'Ant_sak_tilsyn']\n",
    "tilsynsordning"
   ]
  },
  {
   "cell_type": "code",
   "execution_count": null,
   "id": "7261d870-d9df-4e99-8ed5-c8a237a65473",
   "metadata": {},
   "outputs": [],
   "source": [
    "tilsynsordning.iplot()"
   ]
  },
  {
   "cell_type": "code",
   "execution_count": null,
   "id": "3794ae9e-2893-41e2-bcf5-bbf8e435e0f8",
   "metadata": {},
   "outputs": [],
   "source": []
  },
  {
   "cell_type": "markdown",
   "id": "c5b4d0d4-d356-4572-ab69-f2bc3d15dc00",
   "metadata": {},
   "source": [
    "- I hvor mange av sakene med tilsynsordning er det vurdert nattevåk og/eller beredskap?\n",
    "    - Antall saker med innvilget beredskap per dag.\n",
    "    - Antall saker med avslått beredskap per dag.\n",
    "    - Antall saker med innvilget nattevåk per dag.\n",
    "    - Antall saker med avslått nattevåk per dag.\n",
    "    - Antall saker med innvilget beredskap & nattevåk per dag.\n",
    "    - Antall saker med avslått beredskap & nattevåk per dag."
   ]
  },
  {
   "cell_type": "markdown",
   "id": "5b52ea43-19e6-4dbd-8759-74f9df58972e",
   "metadata": {
    "tags": []
   },
   "source": [
    "### Antall saker med innvilget beredskap per dag"
   ]
  },
  {
   "cell_type": "code",
   "execution_count": null,
   "id": "92bf4262-1512-4590-95ff-eab5dc72517c",
   "metadata": {},
   "outputs": [],
   "source": [
    "#filt = ((df['GMT_ETABLERT_TILSYN'].notna()) & (df['GMT_ETABLERT_TILSYN'] > 0) ) # henter saker med tilsynsordning\n",
    "\n",
    "#df.loc[filt][['DATO', 'SAKSNUMMER', 'UTFALL', 'GMT_OVERSE_ETABLERT_TILSYN_AARSAK']].pivot_table(\n",
    "#    index = ['DATO', 'UTFALL'], columns = 'GMT_OVERSE_ETABLERT_TILSYN_AARSAK', values = 'SAKSNUMMER' ,aggfunc = lambda x: len(x.unique()), \n",
    "#                    fill_value=0, margins = True).rename_axis(None, axis = 1)[:24]"
   ]
  },
  {
   "cell_type": "code",
   "execution_count": null,
   "id": "ec06e5d4-60fc-40b2-95a2-edd2b0c08810",
   "metadata": {},
   "outputs": [],
   "source": [
    "filt = ( (df['GMT_ETABLERT_TILSYN'].notna()) & (df['GMT_ETABLERT_TILSYN'] > 0) & (df['GMT_OVERSE_ETABLERT_TILSYN_AARSAK'] != 'FOR_LAVT')) # henter saker med tilsynsordning\n",
    "\n",
    "tilsynsordning_med_aarsak = df.loc[filt][['DATO', 'SAKSNUMMER', 'UTFALL', 'GMT_OVERSE_ETABLERT_TILSYN_AARSAK']].pivot_table(\n",
    "    index = ['DATO', 'UTFALL'], columns = 'GMT_OVERSE_ETABLERT_TILSYN_AARSAK', values = 'SAKSNUMMER' ,aggfunc = lambda x: len(x.unique()), \n",
    "                    fill_value=0).rename_axis(None, axis = 1).unstack()"
   ]
  },
  {
   "cell_type": "code",
   "execution_count": null,
   "id": "47450d89-2403-425e-b80a-58641e16e20a",
   "metadata": {},
   "outputs": [],
   "source": [
    "tilsynsordning_med_aarsak.columns = [''] * len(tilsynsordning_med_aarsak.columns)\n",
    "tilsynsordning_med_aarsak.columns =['BEREDSKAP_IKKE_OPP', 'BEREDSKAP_OPP','NATTEVÅK_IKKE_OPP', 'NATTEVÅK_OPP', 'NATTEVÅK_OG_BEREDSKAP_IKKE_OPP', 'NATTEVÅK_OG_BEREDSKAP_OPP']\n",
    "tilsynsordning_med_aarsak"
   ]
  },
  {
   "cell_type": "code",
   "execution_count": null,
   "id": "a0a9532a-ddc8-4598-82df-6e13470c5ba2",
   "metadata": {},
   "outputs": [],
   "source": [
    "tilsynsordning_med_aarsak.iplot(kind = 'bar')"
   ]
  },
  {
   "cell_type": "code",
   "execution_count": null,
   "id": "e1ba2aa4-e4e4-438f-b821-2e4e438ed094",
   "metadata": {},
   "outputs": [],
   "source": []
  },
  {
   "cell_type": "markdown",
   "id": "35fe0715-0ad2-44a4-aec7-4835e9ed0569",
   "metadata": {},
   "source": [
    "- I hvor mange av sakene er det unntak fra gradering på grunn av nattevåk og/eller beredskap?\n",
    "    - Antall saker der nattevåk og/eller beredskap blir brukt som unntak per dag."
   ]
  },
  {
   "cell_type": "markdown",
   "id": "6b692553-6b46-424c-86e6-50b120711acb",
   "metadata": {},
   "source": [
    "- Antall som graderes med årsak per dag:\n",
    "    - GRADERT_MOT_TILSYN\n",
    "    - AVKORTET_MOT_INNTEKT"
   ]
  },
  {
   "cell_type": "code",
   "execution_count": null,
   "id": "1ac1344e-12f8-4c90-bf92-95ee76d725ec",
   "metadata": {},
   "outputs": [],
   "source": [
    "filt = ((df['AARSAK'] == 'AVKORTET_MOT_INNTEKT') | (df['AARSAK'] == 'GRADERT_MOT_TILSYN'))\n",
    "gradering_med_aarsak = df.loc[filt, ['DATO', 'AARSAK', 'SAKSNUMMER']].pivot_table(index = 'DATO', columns = 'AARSAK', values = 'AARSAK',\n",
    "                                                           aggfunc = lambda x: len(x.unique()), fill_value=0)"
   ]
  },
  {
   "cell_type": "code",
   "execution_count": null,
   "id": "b7707641-b931-4a75-b1a9-ab045bf8ebc3",
   "metadata": {},
   "outputs": [],
   "source": [
    "gradering_med_aarsak.columns = [''] * len(gradering_med_aarsak.columns)\n",
    "gradering_med_aarsak.columns =['ANT_SAK_AVKORTET_MOT_INNTEKT', 'ANT_SAK_GRADERT_MOT_TILSYN']\n",
    "gradering_med_aarsak"
   ]
  },
  {
   "cell_type": "code",
   "execution_count": null,
   "id": "910d11ab-d107-4cf8-bd7f-63b2021ac94a",
   "metadata": {},
   "outputs": [],
   "source": []
  },
  {
   "cell_type": "markdown",
   "id": "99511316-5b6c-4439-9d33-48d40012fae2",
   "metadata": {
    "tags": []
   },
   "source": [
    "- Antall avslag med årsak per dag:\n",
    "    - FOR_LAV_REST_PGA_ETABLERT_TILSYN \n",
    "    - FOR_LAV_REST_PGA_ETABLERT_TILSYN_OG_ANDRE_SØKERE\n",
    "    - FOR_LAV_TAPT_ARBEIDSTID\n",
    "    - FOR_LAV_REST_PGA_ANDRE_SØKERE"
   ]
  },
  {
   "cell_type": "code",
   "execution_count": null,
   "id": "1080e9bd-fa18-4f32-87ed-9be5bf90597d",
   "metadata": {},
   "outputs": [],
   "source": [
    "avslag_aarsak_list = ['FOR_LAV_REST_PGA_ETABLERT_TILSYN', 'FOR_LAV_REST_PGA_ETABLERT_TILSYN_OG_ANDRE_SØKERE', 'FOR_LAV_TAPT_ARBEIDSTID', 'FOR_LAV_REST_PGA_ANDRE_SØKERE']\n",
    "filt = (df['AARSAK'].isin(avslag_aarsak_list))\n",
    "avslag_aarsak = df.loc[filt, ['DATO', 'AARSAK', 'SAKSNUMMER']].pivot_table(index = 'DATO', columns = 'AARSAK', values = 'SAKSNUMMER',\n",
    "                                                          aggfunc = lambda x: len(x.unique()), fill_value = 0)"
   ]
  },
  {
   "cell_type": "code",
   "execution_count": null,
   "id": "0326a446-d3d4-4506-9ae1-32ce136f1e08",
   "metadata": {},
   "outputs": [],
   "source": [
    "avslag_aarsak.columns = [''] * len(avslag_aarsak.columns)\n",
    "avslag_aarsak.columns =['ANT_SAK_FOR_LAV_REST_PGA_ANDRE_SØKERE', 'ANT_SAK_FOR_LAV_REST_PGA_ETABLERT_TILSYN', 'ANT_SAK_FOR_LAV_REST_PGA_ETABLERT_TILSYN_OG_ANDRE_SØKERE', 'ANT_SAK_FOR_LAV_TAPT_ARBEIDSTID']\n",
    "avslag_aarsak"
   ]
  },
  {
   "cell_type": "markdown",
   "id": "2a386751-32c8-4304-844a-a46fd4001931",
   "metadata": {},
   "source": [
    "### Antall avslag med årsak per dag (alle årsaker)"
   ]
  },
  {
   "cell_type": "code",
   "execution_count": null,
   "id": "5f65501c-cdc1-4f6a-abe0-7d732604ac23",
   "metadata": {},
   "outputs": [],
   "source": [
    "filt = (df['UTFALL'] == 'IKKE_OPPFYLT')\n",
    "df.loc[filt, ['DATO', 'AARSAK', 'SAKSNUMMER']].pivot_table(index = 'DATO', columns = 'AARSAK', values = 'SAKSNUMMER',\n",
    "                                                          aggfunc = lambda x: len(x.unique()), fill_value = 0)"
   ]
  },
  {
   "cell_type": "markdown",
   "id": "3ddaf942-2127-4b52-b2ea-99dfadceda87",
   "metadata": {},
   "source": [
    "- Hvor mange har ikke arbeid?\n",
    "    - Alle aktiviteter bortsett fra selvstendig næringsdrivende, frilanser og/eller arbeidstaker."
   ]
  },
  {
   "cell_type": "code",
   "execution_count": null,
   "id": "3e3b220c-2ccc-470c-b3ed-02f7589f84b9",
   "metadata": {},
   "outputs": [],
   "source": [
    "bortsett_liste = ['AT','SN','FL', None]\n",
    "filt = (df['UTFALL'] == 'OPPFYLT') & (~df['ARBEIDSFORHOLD_TYPE'].isin(bortsett_liste))\n",
    "ikke_arbeid = df.loc[filt, ['DATO', 'SAKSNUMMER']].pivot_table(index = 'DATO',values = 'SAKSNUMMER', aggfunc = lambda x: len(x.unique())\n",
    "                                                ,fill_value = 0)"
   ]
  },
  {
   "cell_type": "code",
   "execution_count": null,
   "id": "69382bf1-46d6-497a-9370-94b86aed2354",
   "metadata": {},
   "outputs": [],
   "source": [
    "ikke_arbeid.columns = [''] * len(ikke_arbeid.columns)\n",
    "ikke_arbeid.columns =['ANT_SAK_UTEN_ARBEID']\n",
    "ikke_arbeid"
   ]
  },
  {
   "cell_type": "code",
   "execution_count": null,
   "id": "a2816927-ef37-4718-a452-c39431fd5aff",
   "metadata": {},
   "outputs": [],
   "source": [
    "ikke_arbeid.iplot()"
   ]
  },
  {
   "cell_type": "code",
   "execution_count": null,
   "id": "2e1007b0-a22e-4413-b37c-7d8a20840fe7",
   "metadata": {},
   "outputs": [],
   "source": []
  },
  {
   "cell_type": "markdown",
   "id": "5ce81d13-2434-4d35-98a1-4b7e1ad6103f",
   "metadata": {},
   "source": [
    "- Hvor mange har ikke arbeid og oppgir tilsyn?\n",
    "    - Antall saker med arbeid og oppgitt tilsyn per dag."
   ]
  },
  {
   "cell_type": "code",
   "execution_count": null,
   "id": "92757ff4-a003-4053-ac8a-942bae97917c",
   "metadata": {},
   "outputs": [],
   "source": [
    "arbeid_liste = ['AT','SN','FL']\n",
    "filt = ((df['GMT_ETABLERT_TILSYN'].notna()) & (df['GMT_ETABLERT_TILSYN'] > 0) & (df['UTFALL'] == 'OPPFYLT') & (df['ARBEIDSFORHOLD_TYPE'].isin(arbeid_liste)))\n",
    "saker_arbeid_tilsyn = df.loc[filt, ['DATO', 'SAKSNUMMER']].pivot_table(index = 'DATO', values = 'SAKSNUMMER',\n",
    "                                                aggfunc = lambda x: len(x.unique()), fill_value = 0)"
   ]
  },
  {
   "cell_type": "code",
   "execution_count": null,
   "id": "f6c3f527-0976-4505-b2ab-eb2b7011595b",
   "metadata": {},
   "outputs": [],
   "source": [
    "saker_arbeid_tilsyn.columns = [''] * len(saker_arbeid_tilsyn.columns)\n",
    "saker_arbeid_tilsyn.columns =['ANT_SAK_MED_ARBEID_OG_TILSYN']\n",
    "saker_arbeid_tilsyn"
   ]
  },
  {
   "cell_type": "markdown",
   "id": "0040611a-65e4-4c7c-9dfa-fabf3425f4c3",
   "metadata": {},
   "source": [
    "- Hvor mange saker har flere søkere i samme periode?\n",
    "    - Antall saker for et gitt antall søkere (1,2,3,4 eller 5) per dag. (ikke så viktig)"
   ]
  },
  {
   "cell_type": "code",
   "execution_count": null,
   "id": "0fdb9304-750c-4228-8c71-d8b79adb6b2c",
   "metadata": {},
   "outputs": [],
   "source": []
  },
  {
   "cell_type": "markdown",
   "id": "79ae89be-885f-4239-93f7-2edba9edd9e5",
   "metadata": {},
   "source": [
    "- I hvor mange saker er det kun behov for 1 omsorgsperson?\n",
    "    - Antall saker for en gitt pleiegrad (0%, 100%, eller 200%) per dag."
   ]
  },
  {
   "cell_type": "code",
   "execution_count": null,
   "id": "fe29378b-c7b0-473c-8202-4b12eab133f7",
   "metadata": {},
   "outputs": [],
   "source": [
    "filt = (df['UTFALL'] == 'OPPFYLT')\n",
    "pleiebehov = df.loc[filt,['DATO', 'PLEIEBEHOV', 'SAKSNUMMER']].pivot_table(index = 'DATO',columns = 'PLEIEBEHOV', values = 'SAKSNUMMER',\n",
    "                                                    aggfunc = lambda x: len(x.unique()), fill_value=0)"
   ]
  },
  {
   "cell_type": "code",
   "execution_count": null,
   "id": "3d88df05-6339-4d5a-97da-0b81a7583018",
   "metadata": {},
   "outputs": [],
   "source": [
    "pleiebehov.columns = [''] * len(pleiebehov.columns)\n",
    "pleiebehov.columns =['ANT_SAK_100_PLEIEBEHOV', 'ANT_SAK_200_PLEIEBEHOV']\n",
    "pleiebehov"
   ]
  },
  {
   "cell_type": "markdown",
   "id": "07a8086c-d25c-463a-a9b6-bf21830ba773",
   "metadata": {},
   "source": [
    "- Dette uttrekket er ikke per dag, men totalt over alle periodene til en fagsak:\n",
    "    - Hvor mange saker graderes/avslås uten årsakene AVKORTET_MOT_INNTEKT og/eller FOR_LAV_TAPT_ARBEIDSTID\n",
    "    - Hvor mange saker graderes/avslås uten årsaken GRADERT_MOT_TILSYN"
   ]
  },
  {
   "cell_type": "code",
   "execution_count": null,
   "id": "51c39d2d-44aa-4312-8321-7e330ac2ec44",
   "metadata": {},
   "outputs": [],
   "source": [
    "df['AARSAK'].unique()"
   ]
  },
  {
   "cell_type": "markdown",
   "id": "51fc3b2a-f2f4-4403-9502-3d12febc3244",
   "metadata": {
    "tags": []
   },
   "source": [
    "### Antall saker graderes/avslås uten årsakene AVKORTET_MOT_INNTEKT og/eller FOR_LAV_TAPT_ARBEIDSTID"
   ]
  },
  {
   "cell_type": "code",
   "execution_count": null,
   "id": "34122efc-5310-4fe7-9386-baa36cc3d737",
   "metadata": {},
   "outputs": [],
   "source": [
    "bortsett_aarsak = ['AVKORTET_MOT_INNTEKT', 'FOR_LAV_TAPT_ARBEIDSTID']\n",
    "filt = (~df['AARSAK'].isin(bortsett_aarsak)) \n",
    "\n",
    "df.loc[filt][['UTFALL', 'SAKSNUMMER']].pivot_table(\n",
    "    index = 'UTFALL', values = 'SAKSNUMMER' ,aggfunc = lambda x: len(x.unique()), fill_value=0)"
   ]
  },
  {
   "cell_type": "code",
   "execution_count": null,
   "id": "0e343343-2dc7-482a-a25a-ebbdac195cb4",
   "metadata": {},
   "outputs": [],
   "source": [
    "ant_sak_avslås_uten_bortsett_aarsak"
   ]
  },
  {
   "cell_type": "code",
   "execution_count": null,
   "id": "c56d927f-1e1b-45df-a140-4fe7eab0af6a",
   "metadata": {},
   "outputs": [],
   "source": []
  },
  {
   "cell_type": "markdown",
   "id": "80c2d6e7-ce42-4e8f-81e7-3d7134da0d4e",
   "metadata": {},
   "source": [
    "### Antall saker graderes/avslås uten årsaken GRADERT_MOT_TILSYN"
   ]
  },
  {
   "cell_type": "code",
   "execution_count": null,
   "id": "77d74eb4-1589-4443-afc0-14267f69a299",
   "metadata": {},
   "outputs": [],
   "source": [
    "filt = (df['AARSAK'] != 'GRADERT_MOT_TILSYN') \n",
    "df.loc[filt,['UTFALL', 'SAKSNUMMER']].pivot_table(index = 'UTFALL', values = 'SAKSNUMMER', aggfunc = lambda x: len(x.unique()), fill_value=0)"
   ]
  },
  {
   "cell_type": "code",
   "execution_count": null,
   "id": "c76bd3b1-e237-4f96-b6b4-475319ed5e3f",
   "metadata": {},
   "outputs": [],
   "source": []
  },
  {
   "cell_type": "markdown",
   "id": "1ac090df-5a8c-4b08-8fb6-bea406935d2f",
   "metadata": {},
   "source": [
    "- Antall saker med årsak FOR_LAV_TAPT_ARBEIDSTID per dag\n",
    "- Antallet saker som ikke har minst én søknadsperiode som er lenger enn 5 dager sammenhengende."
   ]
  },
  {
   "cell_type": "markdown",
   "id": "008c682c-54b5-4d2f-8049-06f005aa9cf5",
   "metadata": {
    "tags": []
   },
   "source": [
    "### Antall saker med årsak FOR_LAV_TAPT_ARBEIDSTID per dag"
   ]
  },
  {
   "cell_type": "code",
   "execution_count": null,
   "id": "faf5d2f5-d367-4718-acd3-4383dd1ed00f",
   "metadata": {},
   "outputs": [],
   "source": [
    "filt = (df['AARSAK'] == 'FOR_LAV_TAPT_ARBEIDSTID')\n",
    "df.loc[filt, ['DATO', 'SAKSNUMMER']].pivot_table(index = 'DATO', values = 'SAKSNUMMER', aggfunc = lambda x: len(x.unique()), fill_value = 0)"
   ]
  },
  {
   "cell_type": "markdown",
   "id": "28a2c165-9e60-4fda-9def-0c14521d483c",
   "metadata": {},
   "source": [
    "### Antallet saker som ikke har minst én søknadsperiode som er lenger enn 5 dager sammenhengende."
   ]
  },
  {
   "cell_type": "code",
   "execution_count": null,
   "id": "ccfd8bff-429c-4062-831d-835005f1dfb0",
   "metadata": {},
   "outputs": [],
   "source": []
  },
  {
   "cell_type": "code",
   "execution_count": null,
   "id": "09da28f7-3399-43ce-820b-f4cb283e766b",
   "metadata": {},
   "outputs": [],
   "source": []
  },
  {
   "cell_type": "code",
   "execution_count": null,
   "id": "3d1d459d-ab49-4187-bc9e-6e64de4f25c8",
   "metadata": {},
   "outputs": [],
   "source": []
  }
 ],
 "metadata": {
  "kernelspec": {
   "display_name": "Python 3 (ipykernel)",
   "language": "python",
   "name": "python3"
  },
  "language_info": {
   "codemirror_mode": {
    "name": "ipython",
    "version": 3
   },
   "file_extension": ".py",
   "mimetype": "text/x-python",
   "name": "python",
   "nbconvert_exporter": "python",
   "pygments_lexer": "ipython3",
   "version": "3.10.6"
  }
 },
 "nbformat": 4,
 "nbformat_minor": 5
}
