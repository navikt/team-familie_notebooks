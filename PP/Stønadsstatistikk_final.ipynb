{
 "cells": [
  {
   "cell_type": "code",
   "execution_count": null,
   "id": "7e4004f5-e51e-45ce-997d-fe1d903bc7d8",
   "metadata": {},
   "outputs": [],
   "source": [
    "#!pip install google-cloud-secret-manager\n",
    "#!pip install numpy\n",
    "#!pip install pandas\n",
    "#!pip install cufflinks\n",
    "#!pip install cx-Oracle"
   ]
  },
  {
   "cell_type": "code",
   "execution_count": null,
   "id": "1010acdf-3e84-4560-bd5b-babf1f6d03e1",
   "metadata": {},
   "outputs": [],
   "source": [
    "import cx_Oracle\n",
    "import datetime, json\n",
    "import os\n",
    "from google.cloud import secretmanager\n",
    "\n",
    "import numpy as np\n",
    "import pandas as pd\n",
    "from pandas.tseries.offsets import Day\n",
    "\n",
    "import cufflinks as cf\n",
    "cf.go_offline()\n",
    "cf.set_config_file(offline=False, world_readable=True)\n",
    "\n",
    "import warnings\n",
    "warnings.filterwarnings('ignore')"
   ]
  },
  {
   "cell_type": "code",
   "execution_count": null,
   "id": "172933c4-2dda-462b-abd2-b8a791dd231e",
   "metadata": {},
   "outputs": [],
   "source": [
    "def set_secrets_as_envs():\n",
    "  secrets = secretmanager.SecretManagerServiceClient()\n",
    "  resource_name = f\"{os.environ['KNADA_TEAM_SECRET']}/versions/latest\"\n",
    "  secret = secrets.access_secret_version(name=resource_name)\n",
    "  secret_str = secret.payload.data.decode('UTF-8')\n",
    "  secrets = json.loads(secret_str)\n",
    "  os.environ.update(secrets)"
   ]
  },
  {
   "cell_type": "code",
   "execution_count": null,
   "id": "4a11a983-d458-41fb-ba1c-5be86baa01d8",
   "metadata": {},
   "outputs": [],
   "source": [
    "def oracle_secrets():\n",
    "  set_secrets_as_envs()\n",
    "  return dict(\n",
    "    user=os.getenv(\"UID\"),\n",
    "    password=os.getenv(\"PWD\"),\n",
    "    host = os.getenv(\"HOST\"),\n",
    "    service = os.getenv(\"SERVICE\"),\n",
    "    encoding=\"UTF-8\",\n",
    "    nencoding=\"UTF-8\"\n",
    "  )\n",
    "\n",
    "oracle_secrets = oracle_secrets()"
   ]
  },
  {
   "cell_type": "code",
   "execution_count": null,
   "id": "c9e75093-e732-48d5-97bd-3481cea2dcbb",
   "metadata": {},
   "outputs": [],
   "source": [
    "def get_data(sql):\n",
    "    user = oracle_secrets['user'] + '[DVH_FAM_PP]' #f\"[{schema}]\"\n",
    "    dsn_tns = cx_Oracle.makedsn(oracle_secrets['host'], 1521, service_name = oracle_secrets['service'])\n",
    "    try:\n",
    "        conn = cx_Oracle.connect(user = user, password = oracle_secrets['password'], dsn = dsn_tns)\n",
    "        df = pd.read_sql(sql = sql, con = conn)\n",
    "        conn.close()\n",
    "        return df\n",
    "    except cx_Oracle.Error as error:\n",
    "        print(error)"
   ]
  },
  {
   "cell_type": "code",
   "execution_count": null,
   "id": "e97b0a18-b0b0-4b88-bd16-e4f9ebfb34e8",
   "metadata": {},
   "outputs": [],
   "source": [
    "%%time\n",
    "# husk å legge til skjema navn dvh_fam_pp.\n",
    "\n",
    "sql = \"\"\" \n",
    "SELECT A.PERIODE, DIM_TID.DATO, A.UTBET_FOM, A.UTBET_TOM, A.FK_PERSON1_MOTTAKER, A.FK_PERSON1_PLEIETRENGENDE, A.UTFALL, A.UTTAKSGRAD\n",
    ",A.SAKSNUMMER, A.ARBEIDSFORHOLD_TYPE, A.PLEIEBEHOV\n",
    ",B.GMT_OVERSE_ETABLERT_TILSYN_AARSAK, B.SOKERS_TAPTE_ARBEIDSTID, B.GMT_ANDRE_SOKERS_TILSYN, B.GMT_TILGJENGELIG_FOR_SOKER, B.GMT_ETABLERT_TILSYN, B.NATTEVAAK, B.BEREDSKAP\n",
    ",AARSAK.AARSAK\n",
    "FROM fam_pp_stonad A\n",
    "JOIN fam_pp_perioder B ON A.FK_PP_PERIODER=B.PK_PP_PERIODER\n",
    "LEFT OUTER JOIN fam_pp_periode_aarsak AARSAK ON AARSAK.FK_PP_PERIODER=B.PK_PP_PERIODER \n",
    "JOIN DT_P.DIM_TID DIM_TID ON DIM_TID.DIM_NIVAA=1 \n",
    "AND DIM_TID.DAG_I_UKE<6 \n",
    "AND DIM_TID.GYLDIG_FLAGG=1\n",
    "AND A.YTELSE_TYPE='PSB'\n",
    "AND A.UTBET_FOM<=DIM_TID.DATO \n",
    "AND A.UTBET_TOM>=DIM_TID.DATO\n",
    "WHERE A.KILDESYSTEM='PP_VEDTAK' AND A.GYLDIG_FLAGG=0 AND A.PERIODE>202100 AND A.PERIODE<202206\n",
    "and to_char(DIM_TID.DATO,'YYYYMM')=PERIODE\"\"\"\n",
    "\n",
    "df = get_data(sql = sql)"
   ]
  },
  {
   "cell_type": "code",
   "execution_count": null,
   "id": "e49e0f1d-8417-4c71-9c33-5d55c87ff49a",
   "metadata": {},
   "outputs": [],
   "source": [
    "df.head(3)"
   ]
  },
  {
   "cell_type": "markdown",
   "id": "bc1979a9-43d4-42df-ade2-85bb838ec389",
   "metadata": {},
   "source": [
    "# Bestilling av stønadsstatistikk i forbindelse med endringer i 9-11"
   ]
  },
  {
   "cell_type": "markdown",
   "id": "e4805d95-b950-422f-ab78-51358e7efa35",
   "metadata": {},
   "source": [
    "- Trenger totalt antall saker per dag (som er i søknadsperioden).\n",
    "- Hvilken tidsperiode uttrekket gjelder for\n",
    "    - Fullt uttrekk for alle data fra K9 \n",
    "    - Data per dag dataene gjelder for."
   ]
  },
  {
   "cell_type": "markdown",
   "id": "281e7f0a-6d86-4221-aa14-880ba76f142c",
   "metadata": {},
   "source": [
    "### Total antall saker per dag innvilget og ikke innvilget "
   ]
  },
  {
   "cell_type": "code",
   "execution_count": null,
   "id": "6801945d-44bb-4560-b9c2-0799c040c94b",
   "metadata": {},
   "outputs": [],
   "source": [
    "antal_saker = df[['DATO', 'SAKSNUMMER', 'UTFALL']].pivot_table(index = 'DATO', columns = 'UTFALL',\n",
    "                                                               values = 'SAKSNUMMER', aggfunc = lambda x: len(x.unique()), margins = True)[:-1]"
   ]
  },
  {
   "cell_type": "code",
   "execution_count": null,
   "id": "0d5fe0a9-fab4-483d-affa-09a01d7e1f97",
   "metadata": {},
   "outputs": [],
   "source": [
    "antal_saker.columns = [''] * len(antal_saker.columns)\n",
    "antal_saker.columns = ['ANT_SAKER_IKKE_OPP', 'ANT_SAKER_OPP', 'ANT_SAK_TOTALT'] \n",
    "antal_saker.head()"
   ]
  },
  {
   "cell_type": "markdown",
   "id": "6ee3bb87-b2da-44e7-8e9b-a2625cee40d7",
   "metadata": {},
   "source": [
    "- I hvor mange saker er det opplyst om timer med tilsynsordning?\n",
    "    - Antall saker med tilsynsordning per dag."
   ]
  },
  {
   "cell_type": "code",
   "execution_count": null,
   "id": "b1fe8b17-1949-4c52-8d9c-3deaeebcabbd",
   "metadata": {},
   "outputs": [],
   "source": [
    "filt = ((df['UTFALL'] == 'OPPFYLT') & (df['GMT_ETABLERT_TILSYN'] > 0)) \n",
    "tilsynsordning = df.loc[filt][['DATO', 'SAKSNUMMER']].pivot_table(index = 'DATO', values = 'SAKSNUMMER' ,aggfunc = lambda x: len(x.unique()))"
   ]
  },
  {
   "cell_type": "code",
   "execution_count": null,
   "id": "669981eb-9425-45a4-9301-6673c98df7c9",
   "metadata": {},
   "outputs": [],
   "source": [
    "tilsynsordning.columns = [''] * len(tilsynsordning.columns)\n",
    "tilsynsordning.columns =['Ant_SAK_MED_TILSYN']\n",
    "tilsynsordning.head()"
   ]
  },
  {
   "cell_type": "markdown",
   "id": "b7775c3e-64ce-4e56-b39f-1ea177d4d3ef",
   "metadata": {},
   "source": [
    "- I hvor mange av sakene med tilsynsordning er det vurdert nattevåk og/eller beredskap?\n",
    "    - Antall saker med innvilget beredskap per dag.\n",
    "    - Antall saker med avslått beredskap per dag.\n",
    "    - Antall saker med innvilget nattevåk per dag.\n",
    "    - Antall saker med avslått nattevåk per dag.\n",
    "    - Antall saker med innvilget beredskap & nattevåk per dag.\n",
    "    - Antall saker med avslått beredskap & nattevåk per dag."
   ]
  },
  {
   "cell_type": "code",
   "execution_count": null,
   "id": "398d1488-a1df-43a7-9386-71a390375593",
   "metadata": {},
   "outputs": [],
   "source": [
    "filt = ((df['UTFALL'] == 'OPPFYLT') & (df['GMT_ETABLERT_TILSYN'] > 0))\n",
    "beredskap_df = df.loc[filt, ['DATO','SAKSNUMMER', 'BEREDSKAP']].pivot_table(index = 'DATO', columns = 'BEREDSKAP',values = 'SAKSNUMMER', aggfunc = lambda x: len(x.unique()))\n",
    "beredskap_df.columns = [''] * len(beredskap_df.columns)\n",
    "beredskap_df.columns = ['BEREDSKAP_IKKE_OPP', 'BEREDSKAP_OPP']\n",
    "beredskap_df.head()"
   ]
  },
  {
   "cell_type": "code",
   "execution_count": null,
   "id": "a88859b1-ab66-4ca0-8e66-ed1f26b90c2b",
   "metadata": {},
   "outputs": [],
   "source": [
    "filt = ((df['UTFALL'] == 'OPPFYLT') & (df['GMT_ETABLERT_TILSYN'] > 0))\n",
    "nattevaak_df = df.loc[filt, ['DATO','SAKSNUMMER', 'NATTEVAAK']].pivot_table(index = 'DATO', columns = 'NATTEVAAK',values = 'SAKSNUMMER', aggfunc = lambda x: len(x.unique()))\n",
    "nattevaak_df.columns = [''] * len(nattevaak_df.columns)\n",
    "nattevaak_df.columns = ['NATTEVAAK_IKKE_OPP', 'NATTEVAAK_OPP']\n",
    "nattevaak_df.head()"
   ]
  },
  {
   "cell_type": "code",
   "execution_count": null,
   "id": "ec27ed7f-fcce-4f7a-8df1-cd08e9088528",
   "metadata": {},
   "outputs": [],
   "source": [
    "filt = ((df['BEREDSKAP'] == 'OPPFYLT') & (df['NATTEVAAK'] == 'OPPFYLT') & (df['UTFALL'] == 'OPPFYLT') & (df['GMT_ETABLERT_TILSYN'] > 0))\n",
    "nattevaak_og_beredskap_opp_df = df.loc[filt][['DATO', 'SAKSNUMMER']].pivot_table(index = 'DATO', values = 'SAKSNUMMER', aggfunc = lambda x: len(x.unique()))"
   ]
  },
  {
   "cell_type": "code",
   "execution_count": null,
   "id": "08342b13-8486-4120-a370-0a9b7687e9fe",
   "metadata": {},
   "outputs": [],
   "source": [
    "nattevaak_og_beredskap_opp_df.columns = [''] * len(nattevaak_og_beredskap_opp_df.columns)\n",
    "nattevaak_og_beredskap_opp_df.columns = ['BEREDSKAP_OG_NATTEVAAK_INNVILGET']\n",
    "nattevaak_og_beredskap_opp_df.head()"
   ]
  },
  {
   "cell_type": "code",
   "execution_count": null,
   "id": "7a70da95-c263-4990-b314-7f2d91a0893b",
   "metadata": {},
   "outputs": [],
   "source": [
    "filt = ((df['BEREDSKAP'] == 'IKKE_OPPFYLT') & (df['NATTEVAAK'] == 'IKKE_OPPFYLT') & (df['UTFALL'] == 'OPPFYLT') & (df['GMT_ETABLERT_TILSYN'] > 0))\n",
    "nattevaak_og_beredskap_ikke_opp_df = df.loc[filt][['DATO', 'SAKSNUMMER']].pivot_table(index = 'DATO', values = 'SAKSNUMMER', aggfunc = lambda x: len(x.unique()))"
   ]
  },
  {
   "cell_type": "code",
   "execution_count": null,
   "id": "545f301d-51e3-43c7-8b3b-465355402eb0",
   "metadata": {},
   "outputs": [],
   "source": [
    "nattevaak_og_beredskap_ikke_opp_df.columns = [''] * len(nattevaak_og_beredskap_opp_df.columns)\n",
    "nattevaak_og_beredskap_ikke_opp_df.columns = ['BEREDSKAP_OG_NATTEVAAK_IKKE_INNVILGET']\n",
    "nattevaak_og_beredskap_ikke_opp_df.reindex(nattevaak_og_beredskap_opp_df.index).fillna(0).astype(int).tail(20)"
   ]
  },
  {
   "cell_type": "code",
   "execution_count": null,
   "id": "9352fe20-ffc0-4688-9ba7-b142875b6c68",
   "metadata": {},
   "outputs": [],
   "source": [
    "natt_bred_result = pd.concat([beredskap_df, nattevaak_df, nattevaak_og_beredskap_opp_df, nattevaak_og_beredskap_ikke_opp_df], \n",
    "                             axis=1).reindex(beredskap_df.index).fillna(value = 0)\n",
    "natt_bred_result.astype(int).head()"
   ]
  },
  {
   "cell_type": "markdown",
   "id": "ed9815ad-a90e-4641-a7f6-d7bf36f3fa8f",
   "metadata": {},
   "source": [
    "- I hvor mange av sakene er det unntak fra gradering på grunn av nattevåk og/eller beredskap?\n",
    "    - Antall saker der nattevåk og/eller beredskap blir brukt som unntak per dag."
   ]
  },
  {
   "cell_type": "code",
   "execution_count": null,
   "id": "b57ee2ea-d495-4a6e-afd6-a884947a3cba",
   "metadata": {},
   "outputs": [],
   "source": [
    "l = ['NATTEVÅK_OG_BEREDSKAP', 'BEREDSKAP', 'NATTEVÅK']\n",
    "filt = ((df['GMT_ETABLERT_TILSYN'] > 0) & (df['UTFALL'] == 'OPPFYLT') & (df['GMT_OVERSE_ETABLERT_TILSYN_AARSAK'].isin(l)))\n",
    "#filt = ( (df['UTFALL'] == 'OPPFYLT') & (((df['NATTEVAAK'] == 'OPPFYLT') | (df['BEREDSKAP'] == 'OPPFYLT')) | ((df['NATTEVAAK'] == 'OPPFYLT') & (df['BEREDSKAP'] == 'OPPFYLT')))) \n",
    "natt_bred_unntak = df.loc[filt][['DATO', 'SAKSNUMMER']].pivot_table(index='DATO', values = 'SAKSNUMMER', aggfunc = lambda x: len(x.unique()) )"
   ]
  },
  {
   "cell_type": "code",
   "execution_count": null,
   "id": "89d87019-9fb0-4a78-9cd9-59bd63e24250",
   "metadata": {},
   "outputs": [],
   "source": [
    "natt_bred_unntak.columns = [''] * len(natt_bred_unntak.columns)\n",
    "natt_bred_unntak.columns = ['ANT_SAK_NATT_OG_PRED_UNNTAK_FRA_GRAD']\n",
    "natt_bred_unntak.head()"
   ]
  },
  {
   "cell_type": "markdown",
   "id": "0ba6126e-0112-4b80-9583-5f56441105b0",
   "metadata": {},
   "source": [
    "- Antall saker som graderes med årsak per dag:\n",
    "    - GRADERT_MOT_TILSYN\n",
    "    - AVKORTET_MOT_INNTEKT"
   ]
  },
  {
   "cell_type": "code",
   "execution_count": null,
   "id": "28f91f00-3fa2-4981-abbb-1496d15c74fd",
   "metadata": {},
   "outputs": [],
   "source": [
    "filt = ((df['UTFALL'] == 'OPPFYLT') & ((df['AARSAK'] == 'AVKORTET_MOT_INNTEKT') | (df['AARSAK'] == 'GRADERT_MOT_TILSYN')))\n",
    "gradering_med_aarsak = df.loc[filt, ['DATO', 'AARSAK', 'SAKSNUMMER']].pivot_table(index = 'DATO', columns = 'AARSAK', values = 'AARSAK',\n",
    "                                                           aggfunc = lambda x: len(x.unique()), fill_value=0)"
   ]
  },
  {
   "cell_type": "code",
   "execution_count": null,
   "id": "aa8f20a3-5daf-4559-b347-76b6e5f5e400",
   "metadata": {},
   "outputs": [],
   "source": [
    "gradering_med_aarsak.columns = [''] * len(gradering_med_aarsak.columns)\n",
    "gradering_med_aarsak.columns =['ANT_SAK_AVKORTET_MOT_INNTEKT', 'ANT_SAK_GRADERT_MOT_TILSYN']\n",
    "gradering_med_aarsak.head()"
   ]
  },
  {
   "cell_type": "markdown",
   "id": "02bc31c9-b079-4a1c-9792-23c300c9ddf3",
   "metadata": {},
   "source": [
    "- Antall avslag med årsak per dag:\n",
    "    - FOR_LAV_REST_PGA_ETABLERT_TILSYN \n",
    "    - FOR_LAV_REST_PGA_ETABLERT_TILSYN_OG_ANDRE_SØKERE\n",
    "    - FOR_LAV_TAPT_ARBEIDSTID\n",
    "    - FOR_LAV_REST_PGA_ANDRE_SØKERE"
   ]
  },
  {
   "cell_type": "code",
   "execution_count": null,
   "id": "86c77192-449c-4476-a7d1-3cc7a2e82cef",
   "metadata": {},
   "outputs": [],
   "source": [
    "avslag_aarsak_list = ['FOR_LAV_REST_PGA_ETABLERT_TILSYN', 'FOR_LAV_REST_PGA_ETABLERT_TILSYN_OG_ANDRE_SØKERE', 'FOR_LAV_TAPT_ARBEIDSTID', 'FOR_LAV_REST_PGA_ANDRE_SØKERE']\n",
    "filt = df['AARSAK'].isin(avslag_aarsak_list)\n",
    "avslag_aarsak = df.loc[filt, ['DATO', 'AARSAK', 'SAKSNUMMER']].pivot_table(index = 'DATO', columns = 'AARSAK', values = 'SAKSNUMMER',\n",
    "                                                          aggfunc = lambda x: len(x.unique()), fill_value = 0)"
   ]
  },
  {
   "cell_type": "code",
   "execution_count": null,
   "id": "5bc01789-338e-4f93-b3a5-383189680725",
   "metadata": {},
   "outputs": [],
   "source": [
    "avslag_aarsak.columns = [''] * len(avslag_aarsak.columns)\n",
    "avslag_aarsak.columns =['ANT_SAK_FOR_LAV_REST_PGA_ANDRE_SØKERE', 'ANT_SAK_FOR_LAV_REST_PGA_ETABLERT_TILSYN', 'ANT_SAK_FOR_LAV_REST_PGA_ETABLERT_TILSYN_OG_ANDRE_SØKERE', 'ANT_SAK_FOR_LAV_TAPT_ARBEIDSTID']\n",
    "avslag_aarsak.head()"
   ]
  },
  {
   "cell_type": "markdown",
   "id": "28de3e63-39b7-45e4-87c6-541d6fcb589d",
   "metadata": {},
   "source": [
    "- Hvor mange har ikke arbeid?\n",
    "    - Alle aktiviteter bortsett fra selvstendig næringsdrivende, frilanser og/eller arbeidstaker."
   ]
  },
  {
   "cell_type": "code",
   "execution_count": null,
   "id": "a1bcebe7-e0f6-45ea-91ff-31c8c17f243f",
   "metadata": {},
   "outputs": [],
   "source": [
    "bortsett_liste = ['AT','SN','FL', None]\n",
    "filt = (df['UTFALL'] == 'OPPFYLT') & (~df['ARBEIDSFORHOLD_TYPE'].isin(bortsett_liste))\n",
    "ikke_arbeid = df.loc[filt, ['DATO', 'SAKSNUMMER']].pivot_table(index = 'DATO',values = 'SAKSNUMMER', aggfunc = lambda x: len(x.unique())\n",
    "                                                ,fill_value = 0)"
   ]
  },
  {
   "cell_type": "code",
   "execution_count": null,
   "id": "8b23466f-df9f-4601-9d12-367beabb16d5",
   "metadata": {},
   "outputs": [],
   "source": [
    "ikke_arbeid.columns = [''] * len(ikke_arbeid.columns)\n",
    "ikke_arbeid.columns =['ANT_SAK_UTEN_ARBEID']\n",
    "ikke_arbeid.head()"
   ]
  },
  {
   "cell_type": "markdown",
   "id": "1099c707-8012-48ca-8896-ffdd84f369e0",
   "metadata": {},
   "source": [
    "- Hvor mange har ikke arbeid og oppgir tilsyn?"
   ]
  },
  {
   "cell_type": "code",
   "execution_count": null,
   "id": "1a553479-b259-41d9-a4d5-c9b7693d5b52",
   "metadata": {},
   "outputs": [],
   "source": [
    "arbeid_liste = ['AT','SN','FL']\n",
    "filt = ((df['GMT_ETABLERT_TILSYN'] > 0) & (df['UTFALL'] == 'OPPFYLT') & (~df['ARBEIDSFORHOLD_TYPE'].isin(arbeid_liste)))\n",
    "saker_arbeid_tilsyn = df.loc[filt, ['DATO', 'SAKSNUMMER']].pivot_table(index = 'DATO', values = 'SAKSNUMMER',\n",
    "                                                aggfunc = lambda x: len(x.unique()), fill_value = 0)"
   ]
  },
  {
   "cell_type": "code",
   "execution_count": null,
   "id": "c5ff0228-c068-4d1c-ae1c-30407e98a7dc",
   "metadata": {},
   "outputs": [],
   "source": [
    "saker_arbeid_tilsyn.columns = [''] * len(saker_arbeid_tilsyn.columns)\n",
    "saker_arbeid_tilsyn.columns =['ANT_SAK_IKKE_ARBEID_OG_OPPGIR_TILSYN']\n",
    "saker_arbeid_tilsyn.head()"
   ]
  },
  {
   "cell_type": "markdown",
   "id": "e72f333a-1a0b-4a2f-9285-5d7d2c26126e",
   "metadata": {},
   "source": [
    "- Antall saker med arbeid og oppgitt tilsyn per dag."
   ]
  },
  {
   "cell_type": "code",
   "execution_count": null,
   "id": "f62bf380-1b68-4371-ae86-9884a997544d",
   "metadata": {},
   "outputs": [],
   "source": [
    "arbeid_liste = ['AT','SN','FL']\n",
    "filt = ((df['GMT_ETABLERT_TILSYN'] > 0) & (df['UTFALL'] == 'OPPFYLT') & (df['ARBEIDSFORHOLD_TYPE'].isin(arbeid_liste)))\n",
    "saker_har_arbeid_tilsyn = df.loc[filt, ['DATO', 'SAKSNUMMER']].pivot_table(index = 'DATO', values = 'SAKSNUMMER',\n",
    "                                                aggfunc = lambda x: len(x.unique()), fill_value = 0)"
   ]
  },
  {
   "cell_type": "code",
   "execution_count": null,
   "id": "c3c1b32a-bf5a-4c4f-a20c-ac99c9309eed",
   "metadata": {},
   "outputs": [],
   "source": [
    "saker_har_arbeid_tilsyn.columns = [''] * len(saker_har_arbeid_tilsyn.columns)\n",
    "saker_har_arbeid_tilsyn.columns =['ANT_SAK_ER I_ARBEID_OG_OPPGIR_TILSYN']\n",
    "saker_har_arbeid_tilsyn.head()"
   ]
  },
  {
   "cell_type": "markdown",
   "id": "f732ee33-257c-47e3-8ce4-453d4273074f",
   "metadata": {},
   "source": [
    "## Gradering mot annen omsorgsperson:"
   ]
  },
  {
   "cell_type": "markdown",
   "id": "192ff422-7f17-482a-96c5-85f8872c8645",
   "metadata": {},
   "source": [
    "- Hvor mange saker har flere søkere i samme periode?\n",
    "    - Antall saker for et gitt antall søkere (1,2,3,4 eller 5) per dag. (ikke så viktig)"
   ]
  },
  {
   "cell_type": "code",
   "execution_count": null,
   "id": "88d172f6-f5e9-4f07-a14f-ea1ca34c730d",
   "metadata": {},
   "outputs": [],
   "source": [
    "filt = (df['UTFALL'] == 'OPPFYLT')\n",
    "d = df.loc[filt,['PERIODE', 'FK_PERSON1_MOTTAKER', 'FK_PERSON1_PLEIETRENGENDE']].drop_duplicates(keep='first').groupby(['PERIODE', 'FK_PERSON1_PLEIETRENGENDE'])['FK_PERSON1_MOTTAKER'].count().reset_index()"
   ]
  },
  {
   "cell_type": "code",
   "execution_count": null,
   "id": "99ae129a-1974-477c-a241-2ce1149a9f5b",
   "metadata": {},
   "outputs": [],
   "source": [
    "#filt = ((d['PERIODE'] == '202201') & (d['FK_PERSON1_MOTTAKER'] == 2) | (d['FK_PERSON1_MOTTAKER'] == 3))\n",
    "ant_mottakere_per_sak = pd.crosstab(d['PERIODE'], d['FK_PERSON1_MOTTAKER'])"
   ]
  },
  {
   "cell_type": "code",
   "execution_count": null,
   "id": "e7f6409a-2f2a-4d7a-b0c0-092cc0ad9996",
   "metadata": {},
   "outputs": [],
   "source": [
    "ant_mottakere_per_sak.columns = [''] * len(ant_mottakere_per_sak.columns)\n",
    "ant_mottakere_per_sak.columns = ['ANT_SAK_EN_MOTTAKER', 'ANT_SAK_TO_MOTTAKER','ANT_SAK_TRE_MOTTAKER']\n",
    "ant_mottakere_per_sak.head()"
   ]
  },
  {
   "cell_type": "code",
   "execution_count": null,
   "id": "2bc52cba-ece3-4cb7-a950-4112afdfcc28",
   "metadata": {},
   "outputs": [],
   "source": []
  },
  {
   "cell_type": "code",
   "execution_count": null,
   "id": "3b7d6beb-67c1-4569-aa25-ce93f1c9b7d8",
   "metadata": {},
   "outputs": [],
   "source": [
    "filt = (df['UTFALL'] == 'OPPFYLT')\n",
    "d_ = df.loc[filt,['DATO', 'FK_PERSON1_MOTTAKER', 'FK_PERSON1_PLEIETRENGENDE']].drop_duplicates(keep='first').groupby(['DATO', 'FK_PERSON1_PLEIETRENGENDE'])['FK_PERSON1_MOTTAKER'].count().reset_index()"
   ]
  },
  {
   "cell_type": "code",
   "execution_count": null,
   "id": "dfecdca9-ee88-4f1b-808f-06fe27fe7767",
   "metadata": {},
   "outputs": [],
   "source": [
    "ant_mottakere_per_sak_ = pd.crosstab(d_['DATO'], d_['FK_PERSON1_MOTTAKER'])"
   ]
  },
  {
   "cell_type": "code",
   "execution_count": null,
   "id": "e64bb40c-0ea9-44ee-a98c-d2e700550ff3",
   "metadata": {},
   "outputs": [],
   "source": [
    "ant_mottakere_per_sak_.columns = [''] * len(ant_mottakere_per_sak_.columns)\n",
    "ant_mottakere_per_sak_.columns = ['ANT_SAK_EN_MOTTAKER', 'ANT_SAK_TO_MOTTAKER','ANT_SAK_TRE_MOTTAKER']\n",
    "ant_mottakere_per_sak_.head()"
   ]
  },
  {
   "cell_type": "markdown",
   "id": "bc5774d9-a272-4afb-a02c-c937ba63c8fe",
   "metadata": {},
   "source": [
    "- I hvor mange saker er det kun behov for 1 omsorgsperson?\n",
    "    - Antall saker for en gitt pleiegrad (0%, 100%, eller 200%) per dag"
   ]
  },
  {
   "cell_type": "code",
   "execution_count": null,
   "id": "76aba94b-e796-46e4-a9d3-1f2a9f77c111",
   "metadata": {},
   "outputs": [],
   "source": [
    "filt = (df['UTFALL'] == 'OPPFYLT')\n",
    "pleiebehov = df.loc[filt,['DATO', 'PLEIEBEHOV', 'SAKSNUMMER']].pivot_table(index = 'DATO',columns = 'PLEIEBEHOV', values = 'SAKSNUMMER',\n",
    "                                                    aggfunc = lambda x: len(x.unique()), fill_value=0)"
   ]
  },
  {
   "cell_type": "code",
   "execution_count": null,
   "id": "df39d51f-7d9d-4dea-835b-d207b0520853",
   "metadata": {},
   "outputs": [],
   "source": [
    "pleiebehov.columns = [''] * len(pleiebehov.columns)\n",
    "pleiebehov.columns =['ANT_SAK_100_PLEIEBEHOV', 'ANT_SAK_200_PLEIEBEHOV']\n",
    "pleiebehov.head()"
   ]
  },
  {
   "cell_type": "markdown",
   "id": "d8a0ed7f-756a-4339-adcc-02568fa7a509",
   "metadata": {},
   "source": [
    "## Gradering mot arbeid:"
   ]
  },
  {
   "cell_type": "markdown",
   "id": "1f0afaae-2f46-43ae-825f-d60e4efe0597",
   "metadata": {},
   "source": [
    "- Dette uttrekket er ikke per dag, men totalt over alle periodene til en fagsak:\n",
    "    - Hvor mange saker graderes/avslås uten årsakene AVKORTET_MOT_INNTEKT og/eller FOR_LAV_TAPT_ARBEIDSTID\n",
    "    - Hvor mange saker graderes/avslås uten årsaken GRADERT_MOT_TILSYN"
   ]
  },
  {
   "cell_type": "markdown",
   "id": "40b6377b-9067-4be4-8a1d-00aa27eb5b4b",
   "metadata": {},
   "source": [
    "### Antall saker graderes/avslås uten årsakene AVKORTET_MOT_INNTEKT og/eller FOR_LAV_TAPT_ARBEIDSTID"
   ]
  },
  {
   "cell_type": "code",
   "execution_count": null,
   "id": "4f855dd6-292c-4489-bb53-3db245b94462",
   "metadata": {},
   "outputs": [],
   "source": [
    "# NY\n",
    "# Hvor mange graders grunn tilsyn (kreteriet fra møtet)\n",
    "filt = (df['AARSAK'] == 'GRADERT_MOT_TILSYN')\n",
    "df.loc[filt][['UTFALL', 'SAKSNUMMER']].pivot_table(index = 'UTFALL', values = 'SAKSNUMMER' ,aggfunc = lambda x: len(x.unique()))"
   ]
  },
  {
   "cell_type": "code",
   "execution_count": null,
   "id": "12bb36fd-b6f7-47d6-a456-2c39e8dd1dc9",
   "metadata": {},
   "outputs": [],
   "source": [
    "bortsett_aarsak = ['AVKORTET_MOT_INNTEKT', 'FOR_LAV_TAPT_ARBEIDSTID']\n",
    "filt = (~df['AARSAK'].isin(bortsett_aarsak)) & (df['UTTAKSGRAD'] < 100)\n",
    "df.loc[filt][['UTFALL', 'SAKSNUMMER']].pivot_table(index = 'UTFALL', values = 'SAKSNUMMER' ,aggfunc = lambda x: len(x.unique()))"
   ]
  },
  {
   "cell_type": "markdown",
   "id": "590f5598-4c32-4878-875f-7f0956bc0035",
   "metadata": {},
   "source": [
    "### Antall saker graderes/avslås uten årsaken GRADERT_MOT_TILSYN"
   ]
  },
  {
   "cell_type": "code",
   "execution_count": null,
   "id": "8b5d22c5-0195-4e24-bbf7-2fcda12995fa",
   "metadata": {},
   "outputs": [],
   "source": [
    "# NY\n",
    "# Hvor mange graders grunn inntekt (kreteriet fra møtet)\n",
    "filt = (df['AARSAK'] == 'AVKORTET_MOT_INNTEKT') \n",
    "df.loc[filt][['UTFALL', 'SAKSNUMMER']].pivot_table(index = 'UTFALL', values = 'SAKSNUMMER' ,aggfunc = lambda x: len(x.unique()))"
   ]
  },
  {
   "cell_type": "code",
   "execution_count": null,
   "id": "60d93b98-4282-4b54-bdfc-a9d902835885",
   "metadata": {},
   "outputs": [],
   "source": [
    "filt = (df['AARSAK'] != 'GRADERT_MOT_TILSYN') & (df['UTTAKSGRAD'] < 100) \n",
    "df.loc[filt,['UTFALL', 'SAKSNUMMER']].pivot_table(index = 'UTFALL', values = 'SAKSNUMMER', aggfunc = lambda x: len(x.unique()))"
   ]
  },
  {
   "cell_type": "markdown",
   "id": "19526f04-a68f-4432-8283-0c4755706a4e",
   "metadata": {},
   "source": [
    "## §8-13 og gradering mot 20 %"
   ]
  },
  {
   "cell_type": "markdown",
   "id": "2628849c-6e9f-4728-9d54-e1b4eb5b19a4",
   "metadata": {},
   "source": [
    " - Antall saker med årsak FOR_LAV_TAPT_ARBEIDSTID per dag"
   ]
  },
  {
   "cell_type": "code",
   "execution_count": null,
   "id": "c510e0be-a10a-4434-a0ef-040d2390c343",
   "metadata": {},
   "outputs": [],
   "source": [
    "filt = (df['AARSAK'] == 'FOR_LAV_TAPT_ARBEIDSTID')\n",
    "sak_lav_tapt_arbeidstid = df.loc[filt, ['DATO', 'SAKSNUMMER']].pivot_table(index = 'DATO', values = 'SAKSNUMMER', aggfunc = lambda x: len(x.unique()), fill_value = 0)\n",
    "sak_lav_tapt_arbeidstid.columns = [''] * len(sak_lav_tapt_arbeidstid.columns)\n",
    "sak_lav_tapt_arbeidstid.columns = ['ANT_SAK_MED_FOR_LAV_TAPT_ARBEIDSTID']\n",
    "sak_lav_tapt_arbeidstid.head()"
   ]
  },
  {
   "cell_type": "code",
   "execution_count": null,
   "id": "355e2cdc-301a-48f9-8495-c0407b0d6dd5",
   "metadata": {},
   "outputs": [],
   "source": []
  },
  {
   "cell_type": "markdown",
   "id": "1daa782d-e04e-4fd9-b9b3-477e57910715",
   "metadata": {},
   "source": [
    " - Antallet saker som ikke har minst én søknadsperiode som er lenger enn 5 dager sammenhengende."
   ]
  },
  {
   "cell_type": "code",
   "execution_count": null,
   "id": "39a6ddc5-199a-4f67-be4a-8ec912105f93",
   "metadata": {},
   "outputs": [],
   "source": [
    "sql_ = \"\"\" \n",
    "SELECT A.PERIODE, A.UTBET_FOM, A.UTBET_TOM, A.UTFALL, A.SAKSNUMMER\n",
    "FROM fam_pp_stonad A\n",
    "WHERE A.KILDESYSTEM='PP_VEDTAK' AND A.GYLDIG_FLAGG=0 AND A.PERIODE>202100 AND A.PERIODE<202206\n",
    "\"\"\"\n",
    "df_ = get_data(sql = sql_)"
   ]
  },
  {
   "cell_type": "code",
   "execution_count": null,
   "id": "a1d632f0-f406-4455-b1a7-0afd74f3cd8c",
   "metadata": {},
   "outputs": [],
   "source": [
    "df_['ANTALL_DAGER'] = df_['UTBET_TOM'].sub(df_['UTBET_FOM']).mod(365*Day()).dt.days + 1"
   ]
  },
  {
   "cell_type": "code",
   "execution_count": null,
   "id": "03416915-c6a9-4510-9bd4-bbac4885bd27",
   "metadata": {},
   "outputs": [],
   "source": [
    "filt = ((df_['ANTALL_DAGER'] == 5))\n",
    "saker_med_søknadsperiode_5 = df_.loc[filt, 'SAKSNUMMER'].unique() # liste med alle saker som har én søknadsperiode på 5 dager i alle periodene januar, februer, mars, april"
   ]
  },
  {
   "cell_type": "code",
   "execution_count": null,
   "id": "13c3fb3e-b888-4b8b-8ab7-ce740bcb8e2e",
   "metadata": {},
   "outputs": [],
   "source": [
    "filt = (~(df_['SAKSNUMMER'].isin(saker_med_søknadsperiode_5)))\n",
    "df_.loc[filt].head()"
   ]
  },
  {
   "cell_type": "code",
   "execution_count": null,
   "id": "af4357d7-da30-4ada-8aed-48ff6c61a036",
   "metadata": {},
   "outputs": [],
   "source": [
    "df_['WEEK_UTBET_FOM'] = df_['UTBET_FOM'].dt.week"
   ]
  },
  {
   "cell_type": "code",
   "execution_count": null,
   "id": "d338ed31-30fd-4a78-bea2-2265935801b0",
   "metadata": {},
   "outputs": [],
   "source": [
    "filt = (~(df_['SAKSNUMMER'].isin(saker_med_søknadsperiode_5)))\n",
    "saker_med_ant_dager_sum = df_.loc[filt].drop_duplicates(keep='first').groupby(['WEEK_UTBET_FOM', 'SAKSNUMMER'])['ANTALL_DAGER'].sum().reset_index()"
   ]
  },
  {
   "cell_type": "code",
   "execution_count": null,
   "id": "027ee3e6-9892-4c44-9c5e-8ac1ccc1a4fa",
   "metadata": {},
   "outputs": [],
   "source": [
    "# filtrer vekk sakker som har 5 dager etter summeringa, da får vi kun saker som ikke oppfyler det 5 dager kravet\n",
    "filt = (saker_med_ant_dager_sum['ANTALL_DAGER'] == 5)\n",
    "saker_med_søknadsperiode_5_etter_sum = saker_med_ant_dager_sum.loc[filt, 'SAKSNUMMER'].unique()\n",
    "\n",
    "filt = (~(saker_med_ant_dager_sum['SAKSNUMMER'].isin(saker_med_søknadsperiode_5_etter_sum)))\n",
    "len(saker_med_ant_dager_sum.loc[filt,'SAKSNUMMER'].unique())"
   ]
  },
  {
   "cell_type": "code",
   "execution_count": null,
   "id": "c7bf5d3c-1c13-4941-95b2-6c8c34a138d5",
   "metadata": {},
   "outputs": [],
   "source": [
    "#n.to_excel('saker_oppfyller_ikke_krav.xlsx')"
   ]
  },
  {
   "cell_type": "code",
   "execution_count": null,
   "id": "bbf26858-5031-4a84-b6b0-12bd9462d76a",
   "metadata": {},
   "outputs": [],
   "source": []
  },
  {
   "cell_type": "markdown",
   "id": "67d992be-0d1a-413c-aec2-06d42fa7bf59",
   "metadata": {},
   "source": [
    "### Antall nye saker per periode"
   ]
  },
  {
   "cell_type": "code",
   "execution_count": null,
   "id": "c1aad7c8-4639-46bd-a465-92d70099b0b3",
   "metadata": {},
   "outputs": [],
   "source": [
    "nye_saker = df[['PERIODE', 'SAKSNUMMER']].drop_duplicates(keep='first').sort_values(by = 'PERIODE')\n",
    "nye_saker['PERIODE'] = pd.to_datetime(nye_saker['PERIODE'],format='%Y%m') "
   ]
  },
  {
   "cell_type": "code",
   "execution_count": null,
   "id": "e3736c70-00eb-40ae-a70f-b431cff7af43",
   "metadata": {},
   "outputs": [],
   "source": [
    "d1 = nye_saker.groupby('PERIODE')['SAKSNUMMER'].value_counts()\n",
    "d2 = d1.unstack().diff().replace({0: False, np.nan: True}).stack()\n",
    "nye_saker['NY_SAK'] = nye_saker.set_index(['PERIODE', 'SAKSNUMMER']).index.map(d2)"
   ]
  },
  {
   "cell_type": "code",
   "execution_count": null,
   "id": "6f12131b-e811-4789-86b8-cab6c6d59fd5",
   "metadata": {},
   "outputs": [],
   "source": [
    "nye_saker.head()"
   ]
  },
  {
   "cell_type": "code",
   "execution_count": null,
   "id": "ccc43c10-41d0-4a1d-82d6-6fb450de2b9f",
   "metadata": {},
   "outputs": [],
   "source": [
    "filt = (nye_saker['NY_SAK'] == True)\n",
    "nye_saker.loc[filt].head()"
   ]
  },
  {
   "cell_type": "code",
   "execution_count": null,
   "id": "feece057-b479-4855-b875-ac7fab764df7",
   "metadata": {},
   "outputs": [],
   "source": [
    "ant_ny_sak_per_periode = pd.crosstab(nye_saker.loc[filt,'PERIODE'], nye_saker.loc[filt,'NY_SAK'])"
   ]
  },
  {
   "cell_type": "code",
   "execution_count": null,
   "id": "5b95ed0c-75a6-476c-868f-6c991e903b5d",
   "metadata": {},
   "outputs": [],
   "source": [
    "ant_ny_sak_per_periode.head()"
   ]
  },
  {
   "cell_type": "code",
   "execution_count": null,
   "id": "a67b3815-bcc0-4b7a-b7cb-1f07d65c812c",
   "metadata": {},
   "outputs": [],
   "source": [
    "ant_ny_sak_per_periode.columns = [''] * len(ant_ny_sak_per_periode.columns)\n",
    "ant_ny_sak_per_periode.columns = ['ANT_NYE_SAKER']\n",
    "ant_ny_sak_per_periode.head()"
   ]
  },
  {
   "cell_type": "code",
   "execution_count": null,
   "id": "0b554d54-032f-4605-a471-c772226c5cb8",
   "metadata": {},
   "outputs": [],
   "source": [
    "ant_ny_sak_per_periode = pd.concat([ant_ny_sak_per_periode, nye_saker.groupby('PERIODE')['SAKSNUMMER'].nunique()], axis=1)"
   ]
  },
  {
   "cell_type": "code",
   "execution_count": null,
   "id": "0bfc8a52-f42e-4af1-bb9b-c64a15a48cd8",
   "metadata": {},
   "outputs": [],
   "source": [
    "ant_ny_sak_per_periode.columns = [''] * len(ant_ny_sak_per_periode.columns)\n",
    "ant_ny_sak_per_periode.columns = ['ANT_NYE_SAKER', 'TOTAL_ANT_SAKER']\n",
    "ant_ny_sak_per_periode = ant_ny_sak_per_periode[['TOTAL_ANT_SAKER', 'ANT_NYE_SAKER']] # endrer rekkefølge på kolonene "
   ]
  },
  {
   "cell_type": "code",
   "execution_count": null,
   "id": "459be509-6982-4997-83d1-2a789e144bf8",
   "metadata": {},
   "outputs": [],
   "source": [
    "ant_ny_sak_per_periode['NYE_SAKER_PERCENT'] = round((ant_ny_sak_per_periode['ANT_NYE_SAKER'] / ant_ny_sak_per_periode['TOTAL_ANT_SAKER']) * 100, 2)\n",
    "ant_ny_sak_per_periode.head()"
   ]
  },
  {
   "cell_type": "code",
   "execution_count": null,
   "id": "9790bda3-bd1e-44ab-beba-f99886ff2113",
   "metadata": {},
   "outputs": [],
   "source": [
    "ant_ny_sak_per_periode[['TOTAL_ANT_SAKER', 'ANT_NYE_SAKER']].iplot()"
   ]
  },
  {
   "cell_type": "code",
   "execution_count": null,
   "id": "36137d41-583b-4a8c-9cbd-f69ead892d1d",
   "metadata": {},
   "outputs": [],
   "source": []
  },
  {
   "cell_type": "code",
   "execution_count": null,
   "id": "d4a6fb67-9e06-4426-a453-14bbda714040",
   "metadata": {},
   "outputs": [],
   "source": []
  },
  {
   "cell_type": "markdown",
   "id": "97015c6f-44bd-420b-b85f-18f6b0e0ad2c",
   "metadata": {},
   "source": [
    "### Resultat tabell"
   ]
  },
  {
   "cell_type": "code",
   "execution_count": null,
   "id": "177e1228-977f-475b-a5fb-a898b92987a6",
   "metadata": {},
   "outputs": [],
   "source": [
    "pd.set_option('display.max_columns', None)"
   ]
  },
  {
   "cell_type": "code",
   "execution_count": null,
   "id": "cc6fa416-ddbb-4992-8edc-660784c39c52",
   "metadata": {},
   "outputs": [],
   "source": [
    "slutt_df = pd.concat([antal_saker,tilsynsordning,natt_bred_result,natt_bred_unntak,gradering_med_aarsak,avslag_aarsak,ikke_arbeid,saker_arbeid_tilsyn, saker_har_arbeid_tilsyn, pleiebehov, sak_lav_tapt_arbeidstid], \n",
    "                             axis=1).reindex(antal_saker.index).fillna(value = 0)"
   ]
  },
  {
   "cell_type": "code",
   "execution_count": null,
   "id": "99189b75-8efc-4adb-974e-3eda586ae485",
   "metadata": {},
   "outputs": [],
   "source": [
    "slutt_df.astype(int)"
   ]
  },
  {
   "cell_type": "code",
   "execution_count": null,
   "id": "ec8df4da-b720-4d6b-a592-dc90b460591b",
   "metadata": {},
   "outputs": [],
   "source": []
  },
  {
   "cell_type": "code",
   "execution_count": null,
   "id": "12219bc2-38d5-4c6d-9530-093ad68d4ada",
   "metadata": {},
   "outputs": [],
   "source": []
  },
  {
   "cell_type": "code",
   "execution_count": null,
   "id": "6c0d4ca7-2fbb-4ae2-9d4c-53cf59852758",
   "metadata": {},
   "outputs": [],
   "source": []
  },
  {
   "cell_type": "code",
   "execution_count": null,
   "id": "23b579e3-c76f-4add-a515-dd82f6db0b05",
   "metadata": {},
   "outputs": [],
   "source": [
    "filt = (df['DATO'] == '2022-05-09')\n",
    "m = df.loc[filt]"
   ]
  },
  {
   "cell_type": "code",
   "execution_count": null,
   "id": "e4d2952e-bc37-4548-8601-04fb00afda43",
   "metadata": {},
   "outputs": [],
   "source": [
    "z = df.loc[filt][['FK_PERSON1_MOTTAKER', 'ARBEIDSFORHOLD_TYPE']].pivot_table(index='FK_PERSON1_MOTTAKER', values = 'ARBEIDSFORHOLD_TYPE'\n",
    "                                                                         , aggfunc = lambda x: len(x.unique())).reset_index()"
   ]
  },
  {
   "cell_type": "code",
   "execution_count": null,
   "id": "54682bb1-9188-4b36-9ae7-0961886c6157",
   "metadata": {},
   "outputs": [],
   "source": [
    "filt = (z['ARBEIDSFORHOLD_TYPE'] > 1)\n",
    "p = z.loc[filt]"
   ]
  },
  {
   "cell_type": "code",
   "execution_count": null,
   "id": "b08baef2-0fd8-4fba-8856-d607267eef9b",
   "metadata": {},
   "outputs": [],
   "source": [
    "l = np.array(p['FK_PERSON1_MOTTAKER'])\n",
    "filt = (m['FK_PERSON1_MOTTAKER'].isin(l))\n",
    "m.loc[filt].sort_values(by = 'FK_PERSON1_MOTTAKER')[:50]"
   ]
  },
  {
   "cell_type": "code",
   "execution_count": null,
   "id": "9e0f4898-2a6b-4353-a019-3cdf112672c9",
   "metadata": {},
   "outputs": [],
   "source": []
  },
  {
   "cell_type": "code",
   "execution_count": null,
   "id": "24bf8795-21b0-42dc-a8fc-b5ca77fe71cb",
   "metadata": {},
   "outputs": [],
   "source": []
  },
  {
   "cell_type": "code",
   "execution_count": null,
   "id": "b3d9884f-c663-44ca-8fc7-b411a89cc14d",
   "metadata": {},
   "outputs": [],
   "source": []
  },
  {
   "cell_type": "code",
   "execution_count": null,
   "id": "def66e33-4f39-46fd-b88b-3f985d06143a",
   "metadata": {},
   "outputs": [],
   "source": [
    "filt = (df['DATO'] == '2022-05-09')\n",
    "n = df.loc[filt, ['DATO', 'FK_PERSON1_MOTTAKER', 'FK_PERSON1_PLEIETRENGENDE']].drop_duplicates(keep='first').groupby(['DATO', 'FK_PERSON1_MOTTAKER'])['FK_PERSON1_PLEIETRENGENDE'].count().reset_index()"
   ]
  },
  {
   "cell_type": "code",
   "execution_count": null,
   "id": "72ba7ee8-2339-4c63-9a4a-45cd0ed65c22",
   "metadata": {},
   "outputs": [],
   "source": [
    "filt = (n['FK_PERSON1_PLEIETRENGENDE'] > 1)\n",
    "n.loc[filt]"
   ]
  },
  {
   "cell_type": "code",
   "execution_count": null,
   "id": "583cbb56-5527-459f-b0df-353b76c297df",
   "metadata": {},
   "outputs": [],
   "source": [
    "df['ARBEIDSFORHOLD_TYPE'].unique()"
   ]
  },
  {
   "cell_type": "code",
   "execution_count": null,
   "id": "605e5cf7-3482-4e14-939b-3b7b48d936d4",
   "metadata": {},
   "outputs": [],
   "source": [
    "filt = (df['FK_PERSON1_MOTTAKER'] == 1553508705) & (df['DATO'] == '2022-05-09')\n",
    "df.loc[filt]"
   ]
  },
  {
   "cell_type": "code",
   "execution_count": null,
   "id": "20271bc3-844a-4b65-b686-f32cb4308fdc",
   "metadata": {},
   "outputs": [],
   "source": []
  },
  {
   "cell_type": "code",
   "execution_count": null,
   "id": "c3beb6b8-e6cf-49ad-aa0c-14d66beace6d",
   "metadata": {},
   "outputs": [],
   "source": [
    "filt = (df['GMT_ETABLERT_TILSYN'] > 0) & (df['UTFALL'] == 'OPPFYLT') & (df['DATO'] == '2022-05-09')\n",
    "m = df.loc[filt][['FK_PERSON1_MOTTAKER', 'ARBEIDSFORHOLD_TYPE']].pivot_table(index='FK_PERSON1_MOTTAKER', values = 'ARBEIDSFORHOLD_TYPE'\n",
    "                                                                         , aggfunc = lambda x: len(x.unique())).reset_index()"
   ]
  },
  {
   "cell_type": "code",
   "execution_count": null,
   "id": "b514ac49-b6a5-4f97-bfce-3684f356772f",
   "metadata": {},
   "outputs": [],
   "source": [
    "filt = (m['ARBEIDSFORHOLD_TYPE'] > 1)\n",
    "p = m.loc[filt]"
   ]
  },
  {
   "cell_type": "code",
   "execution_count": null,
   "id": "d7d4ea0e-d536-4d81-a3ce-0a0804046e1e",
   "metadata": {},
   "outputs": [],
   "source": [
    "l = np.array(p['FK_PERSON1_MOTTAKER'])\n",
    "filt = (m['FK_PERSON1_MOTTAKER'].isin(l))\n",
    "m.loc[filt].sort_values(by = 'FK_PERSON1_MOTTAKER')[:50]"
   ]
  },
  {
   "cell_type": "code",
   "execution_count": null,
   "id": "cf85b72f-0cb1-48be-acd3-ce8d49350a88",
   "metadata": {},
   "outputs": [],
   "source": [
    "df['AARSAK'].unique()"
   ]
  },
  {
   "cell_type": "code",
   "execution_count": null,
   "id": "e86fbe6f-213e-48f8-9243-02face1713c4",
   "metadata": {},
   "outputs": [],
   "source": [
    "filt = (df['UTFALL'] == 'OPFFYLT') & (df['AARSAK'] == 'FULL_DEKNING')\n",
    "df.loc[filt]"
   ]
  },
  {
   "cell_type": "code",
   "execution_count": null,
   "id": "54ae05c4-7912-43d1-b7b8-3ec8581358d2",
   "metadata": {},
   "outputs": [],
   "source": []
  },
  {
   "cell_type": "code",
   "execution_count": null,
   "id": "e210b383-9677-4b20-9dcf-6ce4a11b80e1",
   "metadata": {},
   "outputs": [],
   "source": []
  },
  {
   "cell_type": "code",
   "execution_count": null,
   "id": "a8788b22-280a-4c50-a467-57429784618d",
   "metadata": {},
   "outputs": [],
   "source": [
    "filt =  (df['FK_PERSON1_PLEIETRENGENDE'] == 1348914165) & (df['SOKERS_TAPTE_ARBEIDSTID'] == 100)\n",
    "df.loc[filt]"
   ]
  },
  {
   "cell_type": "code",
   "execution_count": null,
   "id": "296200a3-d84c-4676-8ab0-154ced7418b8",
   "metadata": {},
   "outputs": [],
   "source": []
  }
 ],
 "metadata": {
  "kernelspec": {
   "display_name": "Python 3 (ipykernel)",
   "language": "python",
   "name": "python3"
  },
  "language_info": {
   "codemirror_mode": {
    "name": "ipython",
    "version": 3
   },
   "file_extension": ".py",
   "mimetype": "text/x-python",
   "name": "python",
   "nbconvert_exporter": "python",
   "pygments_lexer": "ipython3",
   "version": "3.10.6"
  }
 },
 "nbformat": 4,
 "nbformat_minor": 5
}
